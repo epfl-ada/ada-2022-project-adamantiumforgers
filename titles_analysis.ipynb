{
 "cells": [
  {
   "cell_type": "code",
   "execution_count": null,
   "metadata": {},
   "outputs": [],
   "source": [
    "'''\n",
    "File name: titles_analysis.ipynb\n",
    "Author: Camille Bernelin\n",
    "Date created: 21/12/2022\n",
    "Date last modified: 23/12/2022\n",
    "Python Version: 3.9.13\n",
    "'''"
   ]
  },
  {
   "attachments": {},
   "cell_type": "markdown",
   "metadata": {},
   "source": [
    "Global parameters to set for data analysis :"
   ]
  },
  {
   "cell_type": "code",
   "execution_count": 2,
   "metadata": {},
   "outputs": [],
   "source": [
    "##### RUN FOR PERIOD :\n",
    "\n",
    "year_start = \"2018\"\n",
    "month_start = \"12\"\n",
    "year_end = \"2019\"\n",
    "month_end = \"01\"\n",
    "\n",
    "##### FOCUS ON A WORD\n",
    "\n",
    "word = ''\n",
    "\n",
    "##### HOW MANY COMMUNITIES ?\n",
    "\n",
    "nb_communities = 6"
   ]
  },
  {
   "attachments": {},
   "cell_type": "markdown",
   "metadata": {},
   "source": [
    "Setting the processing environment :"
   ]
  },
  {
   "cell_type": "code",
   "execution_count": 17,
   "metadata": {},
   "outputs": [],
   "source": [
    "import pandas as pd\n",
    "import numpy as np\n",
    "import spacy\n",
    "import codecs\n",
    "\n",
    "\n",
    "import csv\n",
    "import matplotlib.pyplot as plt\n",
    "import seaborn as sns\n",
    "import statsmodels.formula.api as smf\n",
    "import math\n",
    "import os\n",
    "import glob\n",
    "\n",
    "\n",
    "# Word occurences count\n",
    "from collections import Counter\n",
    "\n",
    "# Sentiment analysis\n",
    "from vaderSentiment.vaderSentiment import SentimentIntensityAnalyzer\n",
    "\n",
    "# Dynamic graphs\n",
    "import plotly.graph_objects as go\n",
    "from plotly.colors import n_colors\n",
    "import plotly.express as px\n",
    "\n",
    "# Emojis management\n",
    "def is_emoji(s):\n",
    "    emojis = \"😘◼️🔴🤾🎅😂🚒👨🤦\" # add more emojis here\n",
    "    count = 0\n",
    "    for emoji in emojis:\n",
    "        count += s.count(emoji)\n",
    "        if count > 1:\n",
    "            return False\n",
    "    return bool(count)\n",
    "\n",
    "DIR = \"data/\"\n",
    "DIR_LARGE = \"data/large/\"\n",
    "DIR_OUT = \"csv_outputs/\"\n",
    "PATH_METADATA = DIR_LARGE + \"yt_metadata_en.jsonl.gz\"\n",
    "\n",
    "\n",
    "############# Data used for processing of titles and tags\n",
    "\n",
    "\n",
    "communities = range(nb_communities)\n",
    "\n",
    "nlp = spacy.load('en_core_web_sm')\n",
    "nlp.max_length=1000000\n",
    "\n",
    "# Preprocessing\n",
    "#undesired_expression_list = [\"Fox News\", \"New York Times\",\"NBC News\"]\n",
    "undesired_expression_list = []\n",
    "\n",
    "# Filtering\n",
    "start_date = year_start + \"-\" + month_start + \"-01\"\n",
    "period_start = pd.to_datetime(start_date, format='%Y-%m-%d')\n",
    "end_date = year_end + \"-\" + month_end + \"-31\"\n",
    "period_end =pd.to_datetime(end_date, format='%Y-%m-%d')\n",
    "\n",
    "# Processing\n",
    "spacy_stopwords = spacy.lang.en.stop_words.STOP_WORDS\n",
    "#news_lexical_field = ['news','News','wrap','Day','day','TV','Channel','channel']\n",
    "news_lexical_field = ['Reports','Report','latest','Latest','Headlines','headlines','Forecast','forecast','Ep','EP','MSNBC','ITV','Breaking','News','news','man','Man','woman','Woman','Men','men','Women','women','Day','day','say','Say','says','Says','SAYS','New','new','year','Year','Call','call','LIVE','Live','live','Video','video','December','January']\n",
    "my_undesired_list = ['|','l','w/','=','$',word] + news_lexical_field\n",
    "\n",
    "named_entities = ['LOC','GPE']"
   ]
  },
  {
   "attachments": {},
   "cell_type": "markdown",
   "metadata": {},
   "source": [
    "Apply the natural language processing to titles, to count the occurences of words, once titles have been cleaned (stopwords removal, elimination of classical journalistic vocabulaty carrying few information, elimination of emojis...)."
   ]
  },
  {
   "cell_type": "code",
   "execution_count": 15,
   "metadata": {},
   "outputs": [
    {
     "data": {
      "text/plain": [
       "'Community 0'"
      ]
     },
     "metadata": {},
     "output_type": "display_data"
    },
    {
     "data": {
      "text/html": [
       "<div>\n",
       "<style scoped>\n",
       "    .dataframe tbody tr th:only-of-type {\n",
       "        vertical-align: middle;\n",
       "    }\n",
       "\n",
       "    .dataframe tbody tr th {\n",
       "        vertical-align: top;\n",
       "    }\n",
       "\n",
       "    .dataframe thead th {\n",
       "        text-align: right;\n",
       "    }\n",
       "</style>\n",
       "<table border=\"1\" class=\"dataframe\">\n",
       "  <thead>\n",
       "    <tr style=\"text-align: right;\">\n",
       "      <th></th>\n",
       "      <th>word</th>\n",
       "      <th>occurences</th>\n",
       "      <th>frequency</th>\n",
       "    </tr>\n",
       "  </thead>\n",
       "  <tbody>\n",
       "    <tr>\n",
       "      <th>0</th>\n",
       "      <td>police</td>\n",
       "      <td>3384</td>\n",
       "      <td>0.007006</td>\n",
       "    </tr>\n",
       "    <tr>\n",
       "      <th>1</th>\n",
       "      <td>pm</td>\n",
       "      <td>2351</td>\n",
       "      <td>0.004867</td>\n",
       "    </tr>\n",
       "    <tr>\n",
       "      <th>2</th>\n",
       "      <td>fire</td>\n",
       "      <td>2124</td>\n",
       "      <td>0.004397</td>\n",
       "    </tr>\n",
       "    <tr>\n",
       "      <th>3</th>\n",
       "      <td>trump</td>\n",
       "      <td>2063</td>\n",
       "      <td>0.004271</td>\n",
       "    </tr>\n",
       "    <tr>\n",
       "      <th>4</th>\n",
       "      <td>weather</td>\n",
       "      <td>1945</td>\n",
       "      <td>0.004027</td>\n",
       "    </tr>\n",
       "  </tbody>\n",
       "</table>\n",
       "</div>"
      ],
      "text/plain": [
       "      word  occurences  frequency\n",
       "0   police        3384   0.007006\n",
       "1       pm        2351   0.004867\n",
       "2     fire        2124   0.004397\n",
       "3    trump        2063   0.004271\n",
       "4  weather        1945   0.004027"
      ]
     },
     "metadata": {},
     "output_type": "display_data"
    },
    {
     "data": {
      "text/plain": [
       "'Community 1'"
      ]
     },
     "metadata": {},
     "output_type": "display_data"
    },
    {
     "data": {
      "text/html": [
       "<div>\n",
       "<style scoped>\n",
       "    .dataframe tbody tr th:only-of-type {\n",
       "        vertical-align: middle;\n",
       "    }\n",
       "\n",
       "    .dataframe tbody tr th {\n",
       "        vertical-align: top;\n",
       "    }\n",
       "\n",
       "    .dataframe thead th {\n",
       "        text-align: right;\n",
       "    }\n",
       "</style>\n",
       "<table border=\"1\" class=\"dataframe\">\n",
       "  <thead>\n",
       "    <tr style=\"text-align: right;\">\n",
       "      <th></th>\n",
       "      <th>word</th>\n",
       "      <th>occurences</th>\n",
       "      <th>frequency</th>\n",
       "    </tr>\n",
       "  </thead>\n",
       "  <tbody>\n",
       "    <tr>\n",
       "      <th>0</th>\n",
       "      <td>trump</td>\n",
       "      <td>2150</td>\n",
       "      <td>0.033171</td>\n",
       "    </tr>\n",
       "    <tr>\n",
       "      <th>1</th>\n",
       "      <td>president</td>\n",
       "      <td>643</td>\n",
       "      <td>0.009921</td>\n",
       "    </tr>\n",
       "    <tr>\n",
       "      <th>2</th>\n",
       "      <td>shutdown</td>\n",
       "      <td>421</td>\n",
       "      <td>0.006495</td>\n",
       "    </tr>\n",
       "    <tr>\n",
       "      <th>3</th>\n",
       "      <td>us</td>\n",
       "      <td>404</td>\n",
       "      <td>0.006233</td>\n",
       "    </tr>\n",
       "    <tr>\n",
       "      <th>4</th>\n",
       "      <td>donald</td>\n",
       "      <td>365</td>\n",
       "      <td>0.005631</td>\n",
       "    </tr>\n",
       "  </tbody>\n",
       "</table>\n",
       "</div>"
      ],
      "text/plain": [
       "        word  occurences  frequency\n",
       "0      trump        2150   0.033171\n",
       "1  president         643   0.009921\n",
       "2   shutdown         421   0.006495\n",
       "3         us         404   0.006233\n",
       "4     donald         365   0.005631"
      ]
     },
     "metadata": {},
     "output_type": "display_data"
    },
    {
     "data": {
      "text/plain": [
       "'Community 2'"
      ]
     },
     "metadata": {},
     "output_type": "display_data"
    },
    {
     "data": {
      "text/html": [
       "<div>\n",
       "<style scoped>\n",
       "    .dataframe tbody tr th:only-of-type {\n",
       "        vertical-align: middle;\n",
       "    }\n",
       "\n",
       "    .dataframe tbody tr th {\n",
       "        vertical-align: top;\n",
       "    }\n",
       "\n",
       "    .dataframe thead th {\n",
       "        text-align: right;\n",
       "    }\n",
       "</style>\n",
       "<table border=\"1\" class=\"dataframe\">\n",
       "  <thead>\n",
       "    <tr style=\"text-align: right;\">\n",
       "      <th></th>\n",
       "      <th>word</th>\n",
       "      <th>occurences</th>\n",
       "      <th>frequency</th>\n",
       "    </tr>\n",
       "  </thead>\n",
       "  <tbody>\n",
       "    <tr>\n",
       "      <th>0</th>\n",
       "      <td>brexit</td>\n",
       "      <td>1808</td>\n",
       "      <td>0.025692</td>\n",
       "    </tr>\n",
       "    <tr>\n",
       "      <th>1</th>\n",
       "      <td>deal</td>\n",
       "      <td>580</td>\n",
       "      <td>0.008242</td>\n",
       "    </tr>\n",
       "    <tr>\n",
       "      <th>2</th>\n",
       "      <td>eu</td>\n",
       "      <td>544</td>\n",
       "      <td>0.007730</td>\n",
       "    </tr>\n",
       "    <tr>\n",
       "      <th>3</th>\n",
       "      <td>trump</td>\n",
       "      <td>541</td>\n",
       "      <td>0.007688</td>\n",
       "    </tr>\n",
       "    <tr>\n",
       "      <th>4</th>\n",
       "      <td>theresa</td>\n",
       "      <td>461</td>\n",
       "      <td>0.006551</td>\n",
       "    </tr>\n",
       "  </tbody>\n",
       "</table>\n",
       "</div>"
      ],
      "text/plain": [
       "      word  occurences  frequency\n",
       "0   brexit        1808   0.025692\n",
       "1     deal         580   0.008242\n",
       "2       eu         544   0.007730\n",
       "3    trump         541   0.007688\n",
       "4  theresa         461   0.006551"
      ]
     },
     "metadata": {},
     "output_type": "display_data"
    },
    {
     "data": {
      "text/plain": [
       "'Community 3'"
      ]
     },
     "metadata": {},
     "output_type": "display_data"
    },
    {
     "data": {
      "text/html": [
       "<div>\n",
       "<style scoped>\n",
       "    .dataframe tbody tr th:only-of-type {\n",
       "        vertical-align: middle;\n",
       "    }\n",
       "\n",
       "    .dataframe tbody tr th {\n",
       "        vertical-align: top;\n",
       "    }\n",
       "\n",
       "    .dataframe thead th {\n",
       "        text-align: right;\n",
       "    }\n",
       "</style>\n",
       "<table border=\"1\" class=\"dataframe\">\n",
       "  <thead>\n",
       "    <tr style=\"text-align: right;\">\n",
       "      <th></th>\n",
       "      <th>word</th>\n",
       "      <th>occurences</th>\n",
       "      <th>frequency</th>\n",
       "    </tr>\n",
       "  </thead>\n",
       "  <tbody>\n",
       "    <tr>\n",
       "      <th>0</th>\n",
       "      <td>trump</td>\n",
       "      <td>1492</td>\n",
       "      <td>0.020299</td>\n",
       "    </tr>\n",
       "    <tr>\n",
       "      <th>1</th>\n",
       "      <td>mueller</td>\n",
       "      <td>651</td>\n",
       "      <td>0.008857</td>\n",
       "    </tr>\n",
       "    <tr>\n",
       "      <th>2</th>\n",
       "      <td>president</td>\n",
       "      <td>411</td>\n",
       "      <td>0.005592</td>\n",
       "    </tr>\n",
       "    <tr>\n",
       "      <th>3</th>\n",
       "      <td>announcement</td>\n",
       "      <td>333</td>\n",
       "      <td>0.004531</td>\n",
       "    </tr>\n",
       "    <tr>\n",
       "      <th>4</th>\n",
       "      <td>q</td>\n",
       "      <td>305</td>\n",
       "      <td>0.004150</td>\n",
       "    </tr>\n",
       "  </tbody>\n",
       "</table>\n",
       "</div>"
      ],
      "text/plain": [
       "           word  occurences  frequency\n",
       "0         trump        1492   0.020299\n",
       "1       mueller         651   0.008857\n",
       "2     president         411   0.005592\n",
       "3  announcement         333   0.004531\n",
       "4             q         305   0.004150"
      ]
     },
     "metadata": {},
     "output_type": "display_data"
    },
    {
     "data": {
      "text/plain": [
       "'Community 4'"
      ]
     },
     "metadata": {},
     "output_type": "display_data"
    },
    {
     "data": {
      "text/html": [
       "<div>\n",
       "<style scoped>\n",
       "    .dataframe tbody tr th:only-of-type {\n",
       "        vertical-align: middle;\n",
       "    }\n",
       "\n",
       "    .dataframe tbody tr th {\n",
       "        vertical-align: top;\n",
       "    }\n",
       "\n",
       "    .dataframe thead th {\n",
       "        text-align: right;\n",
       "    }\n",
       "</style>\n",
       "<table border=\"1\" class=\"dataframe\">\n",
       "  <thead>\n",
       "    <tr style=\"text-align: right;\">\n",
       "      <th></th>\n",
       "      <th>word</th>\n",
       "      <th>occurences</th>\n",
       "      <th>frequency</th>\n",
       "    </tr>\n",
       "  </thead>\n",
       "  <tbody>\n",
       "    <tr>\n",
       "      <th>0</th>\n",
       "      <td>trump</td>\n",
       "      <td>83</td>\n",
       "      <td>0.006947</td>\n",
       "    </tr>\n",
       "    <tr>\n",
       "      <th>1</th>\n",
       "      <td>david</td>\n",
       "      <td>64</td>\n",
       "      <td>0.005357</td>\n",
       "    </tr>\n",
       "    <tr>\n",
       "      <th>2</th>\n",
       "      <td>media</td>\n",
       "      <td>55</td>\n",
       "      <td>0.004604</td>\n",
       "    </tr>\n",
       "    <tr>\n",
       "      <th>3</th>\n",
       "      <td>menzies</td>\n",
       "      <td>54</td>\n",
       "      <td>0.004520</td>\n",
       "    </tr>\n",
       "    <tr>\n",
       "      <th>4</th>\n",
       "      <td>patreon</td>\n",
       "      <td>51</td>\n",
       "      <td>0.004269</td>\n",
       "    </tr>\n",
       "  </tbody>\n",
       "</table>\n",
       "</div>"
      ],
      "text/plain": [
       "      word  occurences  frequency\n",
       "0    trump          83   0.006947\n",
       "1    david          64   0.005357\n",
       "2    media          55   0.004604\n",
       "3  menzies          54   0.004520\n",
       "4  patreon          51   0.004269"
      ]
     },
     "metadata": {},
     "output_type": "display_data"
    },
    {
     "data": {
      "text/plain": [
       "'Community 5'"
      ]
     },
     "metadata": {},
     "output_type": "display_data"
    },
    {
     "data": {
      "text/html": [
       "<div>\n",
       "<style scoped>\n",
       "    .dataframe tbody tr th:only-of-type {\n",
       "        vertical-align: middle;\n",
       "    }\n",
       "\n",
       "    .dataframe tbody tr th {\n",
       "        vertical-align: top;\n",
       "    }\n",
       "\n",
       "    .dataframe thead th {\n",
       "        text-align: right;\n",
       "    }\n",
       "</style>\n",
       "<table border=\"1\" class=\"dataframe\">\n",
       "  <thead>\n",
       "    <tr style=\"text-align: right;\">\n",
       "      <th></th>\n",
       "      <th>word</th>\n",
       "      <th>occurences</th>\n",
       "      <th>frequency</th>\n",
       "    </tr>\n",
       "  </thead>\n",
       "  <tbody>\n",
       "    <tr>\n",
       "      <th>0</th>\n",
       "      <td>trump</td>\n",
       "      <td>1087</td>\n",
       "      <td>0.024262</td>\n",
       "    </tr>\n",
       "    <tr>\n",
       "      <th>1</th>\n",
       "      <td>president</td>\n",
       "      <td>483</td>\n",
       "      <td>0.010781</td>\n",
       "    </tr>\n",
       "    <tr>\n",
       "      <th>2</th>\n",
       "      <td>border</td>\n",
       "      <td>465</td>\n",
       "      <td>0.010379</td>\n",
       "    </tr>\n",
       "    <tr>\n",
       "      <th>3</th>\n",
       "      <td>wall</td>\n",
       "      <td>348</td>\n",
       "      <td>0.007767</td>\n",
       "    </tr>\n",
       "    <tr>\n",
       "      <th>4</th>\n",
       "      <td>pelosi</td>\n",
       "      <td>257</td>\n",
       "      <td>0.005736</td>\n",
       "    </tr>\n",
       "  </tbody>\n",
       "</table>\n",
       "</div>"
      ],
      "text/plain": [
       "        word  occurences  frequency\n",
       "0      trump        1087   0.024262\n",
       "1  president         483   0.010781\n",
       "2     border         465   0.010379\n",
       "3       wall         348   0.007767\n",
       "4     pelosi         257   0.005736"
      ]
     },
     "metadata": {},
     "output_type": "display_data"
    }
   ],
   "source": [
    "for selected_commu in communities:\n",
    "    ############# Select videos whom title contains a given word\n",
    "\n",
    "    titles = pd.read_csv(DIR_OUT + \"titles_date\"+str(selected_commu)+\".csv\",sep=\";\")\n",
    "\n",
    "    titles_contain = titles[titles['title'].str.contains(word, case=False)]\n",
    "\n",
    "\n",
    "    ############# Preprocess the text\n",
    "\n",
    "    for expression in undesired_expression_list :\n",
    "        titles_contain.loc['title'] = titles_contain['title'].str.replace(expression,\"\")\n",
    "\n",
    "    titles_contain.to_csv(DIR_OUT + \"titles_date_f.csv\",sep=\";\",index=False, header=True)\n",
    "    #titles_contain.to_csv(DIR_OUT+\"titles.txt\", sep=\"\\n\",index=False, header=False)\n",
    "\n",
    "    ############# Select videos in a time period of interest\n",
    "\n",
    "    titles = pd.read_csv(DIR_OUT + \"titles_date_f.csv\",sep=\";\")\n",
    "    titles[\"upload_date\"] = pd.to_datetime(titles[\"upload_date\"], format='%Y-%m-%d %H:%M:%S')\n",
    "    titles = titles[(titles['upload_date']>=period_start) & (titles['upload_date']<=period_end)]\n",
    "\n",
    "    #titles['title'] = [x.encode('utf-8','ignore').decode(\"utf-8\") for x in titles['title']]\n",
    "    titles[\"title\"].to_csv(DIR_OUT+\"titles_to_process.txt\", sep=\"\\n\",index=False, header=False)\n",
    "\n",
    "    ############# Process the titles \n",
    "\n",
    "    books = list()\n",
    "\n",
    "    with codecs.open(os.path.join(DIR_OUT,\"titles_to_process.txt\"), encoding='utf8') as f:\n",
    "        books.append(f.read())\n",
    "\n",
    "    # Remove new lines\n",
    "    books = [\" \".join(b.split()) for b in books]\n",
    "\n",
    "    doc_processed = []\n",
    "\n",
    "    # Processing of titles\n",
    "    for i in range(0,int(len(books[0])/nlp.max_length)+1):\n",
    "\n",
    "        # Tokenization\n",
    "        print(\"Tokenization\")\n",
    "        doc = nlp(books[0][i*nlp.max_length:(i+1)*nlp.max_length])\n",
    "\n",
    "        # Named entities recognition\n",
    "        print(\"Named entities recognition\")\n",
    "        for ent in doc.ents:\n",
    "            if ent.label_ in named_entities:\n",
    "                doc_processed = doc_processed + [ent.text]\n",
    "            \n",
    "        # Punctuation and stopwords removal\n",
    "        print(\"Punctuation and stopwords removal\")\n",
    "        doc_processed = doc_processed + [token.text for token in doc if (not (token.ent_type_ in named_entities) and not token.is_digit and not token.is_stop and not token.is_punct and not (token.text in my_undesired_list) and not is_emoji(token.text))]\n",
    "\n",
    "        # Removal of undesired characters\n",
    "        doc_processed = [token.replace(',','') for token in doc_processed]\n",
    "        doc_processed = [token.replace('.','') for token in doc_processed]\n",
    "        doc_processed = [token.replace(\"'s\",'') for token in doc_processed]\n",
    "\n",
    "        print(\"Output\")\n",
    "        #doc_processed = [x.encode('latin1','ignore').decode(\"latin1\") for x in doc_processed]\n",
    "        pd.DataFrame(doc_processed).to_csv(DIR_OUT+\"titles_words.csv\", sep=\";\",index=False, header=['word'])\n",
    "\n",
    "    # EXEC = ~2min30 per iteration (Tokenization takes 90% of exec time)\n",
    "    \n",
    "    ############# Count words occurences\n",
    "\n",
    "    PATH_OUT = DIR_OUT+\"communities_comparison/titles_occurences_\"+str(selected_commu)+\"_\"+word+\"_\"+start_date+\"_\"+end_date+\".csv\"\n",
    "\n",
    "    titles_processed = pd.read_csv(DIR_OUT+\"titles_words.csv\", sep=';')\n",
    "    #titles_processed = [x.encode('utf-8','ignore').decode(\"utf-8\") for x in titles_processed['word']]\n",
    "\n",
    "    # Count occurences\n",
    "    titles_processed_lowercase = [str(word).lower() for word in titles_processed['word']]\n",
    "    word_freq = Counter(titles_processed_lowercase)\n",
    "    common_words = word_freq.most_common()\n",
    "    common_words_out = pd.DataFrame(common_words)\n",
    "    common_words_out.columns=['word','occurences']\n",
    "\n",
    "    common_words_out.insert(2, column='frequency', value=common_words_out['occurences']/common_words_out['occurences'].sum())\n",
    "\n",
    "    display(\"Community \" + str(selected_commu))\n",
    "    common_words_out.to_csv(PATH_OUT,sep=';')\n",
    "    display(common_words_out.head(20))\n"
   ]
  },
  {
   "attachments": {},
   "cell_type": "markdown",
   "metadata": {},
   "source": [
    "Let's have a look a the most cited words for every community :"
   ]
  },
  {
   "cell_type": "code",
   "execution_count": 27,
   "metadata": {},
   "outputs": [
    {
     "data": {
      "text/html": [
       "<div>\n",
       "<style scoped>\n",
       "    .dataframe tbody tr th:only-of-type {\n",
       "        vertical-align: middle;\n",
       "    }\n",
       "\n",
       "    .dataframe tbody tr th {\n",
       "        vertical-align: top;\n",
       "    }\n",
       "\n",
       "    .dataframe thead th {\n",
       "        text-align: right;\n",
       "    }\n",
       "</style>\n",
       "<table border=\"1\" class=\"dataframe\">\n",
       "  <thead>\n",
       "    <tr style=\"text-align: right;\">\n",
       "      <th></th>\n",
       "      <th>community</th>\n",
       "      <th>word</th>\n",
       "      <th>occurences</th>\n",
       "      <th>frequency</th>\n",
       "    </tr>\n",
       "  </thead>\n",
       "  <tbody>\n",
       "    <tr>\n",
       "      <th>59</th>\n",
       "      <td>0</td>\n",
       "      <td>hw</td>\n",
       "      <td>643</td>\n",
       "      <td>0.001331</td>\n",
       "    </tr>\n",
       "    <tr>\n",
       "      <th>58</th>\n",
       "      <td>0</td>\n",
       "      <td>team</td>\n",
       "      <td>647</td>\n",
       "      <td>0.001339</td>\n",
       "    </tr>\n",
       "    <tr>\n",
       "      <th>57</th>\n",
       "      <td>0</td>\n",
       "      <td>people</td>\n",
       "      <td>648</td>\n",
       "      <td>0.001342</td>\n",
       "    </tr>\n",
       "    <tr>\n",
       "      <th>56</th>\n",
       "      <td>0</td>\n",
       "      <td>us</td>\n",
       "      <td>663</td>\n",
       "      <td>0.001373</td>\n",
       "    </tr>\n",
       "    <tr>\n",
       "      <th>55</th>\n",
       "      <td>0</td>\n",
       "      <td>child</td>\n",
       "      <td>665</td>\n",
       "      <td>0.001377</td>\n",
       "    </tr>\n",
       "    <tr>\n",
       "      <th>...</th>\n",
       "      <td>...</td>\n",
       "      <td>...</td>\n",
       "      <td>...</td>\n",
       "      <td>...</td>\n",
       "    </tr>\n",
       "    <tr>\n",
       "      <th>4</th>\n",
       "      <td>5</td>\n",
       "      <td>pelosi</td>\n",
       "      <td>257</td>\n",
       "      <td>0.005736</td>\n",
       "    </tr>\n",
       "    <tr>\n",
       "      <th>3</th>\n",
       "      <td>5</td>\n",
       "      <td>wall</td>\n",
       "      <td>348</td>\n",
       "      <td>0.007767</td>\n",
       "    </tr>\n",
       "    <tr>\n",
       "      <th>2</th>\n",
       "      <td>5</td>\n",
       "      <td>border</td>\n",
       "      <td>465</td>\n",
       "      <td>0.010379</td>\n",
       "    </tr>\n",
       "    <tr>\n",
       "      <th>1</th>\n",
       "      <td>5</td>\n",
       "      <td>president</td>\n",
       "      <td>483</td>\n",
       "      <td>0.010781</td>\n",
       "    </tr>\n",
       "    <tr>\n",
       "      <th>0</th>\n",
       "      <td>5</td>\n",
       "      <td>trump</td>\n",
       "      <td>1087</td>\n",
       "      <td>0.024262</td>\n",
       "    </tr>\n",
       "  </tbody>\n",
       "</table>\n",
       "<p>360 rows × 4 columns</p>\n",
       "</div>"
      ],
      "text/plain": [
       "    community       word  occurences  frequency\n",
       "59          0         hw         643   0.001331\n",
       "58          0       team         647   0.001339\n",
       "57          0     people         648   0.001342\n",
       "56          0         us         663   0.001373\n",
       "55          0      child         665   0.001377\n",
       "..        ...        ...         ...        ...\n",
       "4           5     pelosi         257   0.005736\n",
       "3           5       wall         348   0.007767\n",
       "2           5     border         465   0.010379\n",
       "1           5  president         483   0.010781\n",
       "0           5      trump        1087   0.024262\n",
       "\n",
       "[360 rows x 4 columns]"
      ]
     },
     "metadata": {},
     "output_type": "display_data"
    },
    {
     "data": {
      "application/vnd.plotly.v1+json": {
       "config": {
        "plotlyServerURL": "https://plot.ly"
       },
       "data": [
        {
         "alignmentgroup": "True",
         "bingroup": "y",
         "histfunc": "sum",
         "hovertemplate": "community=0<br>sum of frequency=%{x}<br>word=%{y}<extra></extra>",
         "legendgroup": "",
         "marker": {
          "color": "#636efa",
          "opacity": 0.8,
          "pattern": {
           "shape": ""
          }
         },
         "name": "",
         "offsetgroup": "",
         "orientation": "h",
         "showlegend": false,
         "type": "histogram",
         "x": [
          0.0013312160855622,
          0.0013394973675874,
          0.0013415676880937,
          0.0013726224956885,
          0.0013767631367011,
          0.0014326617903717,
          0.0014450837134096,
          0.0014740682004981,
          0.0014927010850549,
          0.0014947714055612,
          0.0015278965336623,
          0.0015444590977129,
          0.0015444590977129,
          0.0015837951873329,
          0.0015920764693582,
          0.001616920315434,
          0.0016272719179656,
          0.0016355531999908,
          0.0016376235204972,
          0.0016790299306235,
          0.0017059440972056,
          0.0017535614688509,
          0.0017721943534078,
          0.0018115304430278,
          0.00183844460961,
          0.0018984839042932,
          0.0019564528784701,
          0.0019895780065711,
          0.0020309844166975,
          0.0020330547372038,
          0.0020496173012544,
          0.002093094031887,
          0.0021676255701145,
          0.0022214539032787,
          0.002229735185304,
          0.0022814931979619,
          0.0023311808901135,
          0.0023436028131515,
          0.0023498137746704,
          0.0023870795437841,
          0.0024491891589737,
          0.0025320019792264,
          0.0025423535817579,
          0.0028384094141614,
          0.0028529016577056,
          0.0029108706318825,
          0.0029108706318825,
          0.0029419254394772,
          0.0029957537726415,
          0.0031179026825142,
          0.0033125128101081,
          0.0033911849893482,
          0.0034781384506135,
          0.0037100143473211,
          0.0039522418465602,
          0.0040267733847876,
          0.0042710712045331,
          0.0043973607554185,
          0.0048673235103526,
          0.0070059645933787
         ],
         "xaxis": "x",
         "y": [
          "hw",
          "team",
          "people",
          "us",
          "child",
          "students",
          "missing",
          "florida",
          "children",
          "teen",
          "today",
          "charged",
          "cold",
          "driver",
          "murder",
          "death",
          "dead",
          "winter",
          "update",
          "george",
          "watch",
          "accused",
          "local",
          "high",
          "city",
          "help",
          "hit",
          "action",
          "holiday",
          "found",
          "bush",
          "shot",
          "house",
          "storm",
          "president",
          "arrested",
          "snow",
          "time",
          "suspect",
          "car",
          "government",
          "state",
          "morning",
          "video",
          "nbc",
          "old",
          "family",
          "home",
          "officer",
          "crash",
          "christmas",
          "shooting",
          "killed",
          "school",
          "shutdown",
          "weather",
          "trump",
          "fire",
          "pm",
          "police"
         ],
         "yaxis": "y"
        }
       ],
       "frames": [
        {
         "data": [
          {
           "alignmentgroup": "True",
           "bingroup": "y",
           "histfunc": "sum",
           "hovertemplate": "community=0<br>sum of frequency=%{x}<br>word=%{y}<extra></extra>",
           "legendgroup": "",
           "marker": {
            "color": "#636efa",
            "opacity": 0.8,
            "pattern": {
             "shape": ""
            }
           },
           "name": "",
           "offsetgroup": "",
           "orientation": "h",
           "showlegend": false,
           "type": "histogram",
           "x": [
            0.0013312160855622,
            0.0013394973675874,
            0.0013415676880937,
            0.0013726224956885,
            0.0013767631367011,
            0.0014326617903717,
            0.0014450837134096,
            0.0014740682004981,
            0.0014927010850549,
            0.0014947714055612,
            0.0015278965336623,
            0.0015444590977129,
            0.0015444590977129,
            0.0015837951873329,
            0.0015920764693582,
            0.001616920315434,
            0.0016272719179656,
            0.0016355531999908,
            0.0016376235204972,
            0.0016790299306235,
            0.0017059440972056,
            0.0017535614688509,
            0.0017721943534078,
            0.0018115304430278,
            0.00183844460961,
            0.0018984839042932,
            0.0019564528784701,
            0.0019895780065711,
            0.0020309844166975,
            0.0020330547372038,
            0.0020496173012544,
            0.002093094031887,
            0.0021676255701145,
            0.0022214539032787,
            0.002229735185304,
            0.0022814931979619,
            0.0023311808901135,
            0.0023436028131515,
            0.0023498137746704,
            0.0023870795437841,
            0.0024491891589737,
            0.0025320019792264,
            0.0025423535817579,
            0.0028384094141614,
            0.0028529016577056,
            0.0029108706318825,
            0.0029108706318825,
            0.0029419254394772,
            0.0029957537726415,
            0.0031179026825142,
            0.0033125128101081,
            0.0033911849893482,
            0.0034781384506135,
            0.0037100143473211,
            0.0039522418465602,
            0.0040267733847876,
            0.0042710712045331,
            0.0043973607554185,
            0.0048673235103526,
            0.0070059645933787
           ],
           "xaxis": "x",
           "y": [
            "hw",
            "team",
            "people",
            "us",
            "child",
            "students",
            "missing",
            "florida",
            "children",
            "teen",
            "today",
            "charged",
            "cold",
            "driver",
            "murder",
            "death",
            "dead",
            "winter",
            "update",
            "george",
            "watch",
            "accused",
            "local",
            "high",
            "city",
            "help",
            "hit",
            "action",
            "holiday",
            "found",
            "bush",
            "shot",
            "house",
            "storm",
            "president",
            "arrested",
            "snow",
            "time",
            "suspect",
            "car",
            "government",
            "state",
            "morning",
            "video",
            "nbc",
            "old",
            "family",
            "home",
            "officer",
            "crash",
            "christmas",
            "shooting",
            "killed",
            "school",
            "shutdown",
            "weather",
            "trump",
            "fire",
            "pm",
            "police"
           ],
           "yaxis": "y"
          }
         ],
         "name": "0"
        },
        {
         "data": [
          {
           "alignmentgroup": "True",
           "bingroup": "y",
           "histfunc": "sum",
           "hovertemplate": "community=1<br>sum of frequency=%{x}<br>word=%{y}<extra></extra>",
           "legendgroup": "",
           "marker": {
            "color": "#636efa",
            "opacity": 0.8,
            "pattern": {
             "shape": ""
            }
           },
           "name": "",
           "offsetgroup": "",
           "orientation": "h",
           "showlegend": false,
           "type": "histogram",
           "x": [
            0.0014811386253182,
            0.0014811386253182,
            0.0014965671526652,
            0.0015119956800123,
            0.0015274242073594,
            0.0015582812620535,
            0.0015891383167476,
            0.0015891383167476,
            0.0015891383167476,
            0.0016199953714417,
            0.0016199953714417,
            0.0016662809534829,
            0.0017125665355241,
            0.0017125665355241,
            0.0017588521175653,
            0.0017742806449124,
            0.0018205662269536,
            0.001913137391036,
            0.001928565918383,
            0.0019748515004242,
            0.0020365656098125,
            0.0020365656098125,
            0.0020519941371596,
            0.0020828511918537,
            0.0020828511918537,
            0.0021137082465478,
            0.0021291367738949,
            0.0021754223559361,
            0.0022371364653243,
            0.0022679935200185,
            0.0022834220473655,
            0.0022988505747126,
            0.0023605646841009,
            0.0023759932114479,
            0.0024685643755303,
            0.0025148499575715,
            0.0026074211216539,
            0.0026537067036951,
            0.0026691352310421,
            0.0026691352310421,
            0.0026999922857363,
            0.0027308493404304,
            0.0028079919771657,
            0.0028388490318599,
            0.0028388490318599,
            0.0030085628326776,
            0.0030239913600246,
            0.0030394198873717,
            0.0030857054694129,
            0.0033942760163542,
            0.0036565609812543,
            0.0036565609812543,
            0.0040885597469721,
            0.0042428450204427,
            0.0042737020751369,
            0.0056314124816786,
            0.0062331250482141,
            0.0064954100131142,
            0.0099205430841626,
            0.0331713337961891
           ],
           "xaxis": "x",
           "y": [
            "nancy",
            "stone",
            "china",
            "workers",
            "c",
            "kamala",
            "american",
            "harris",
            "congress",
            "national",
            "republicans",
            "senate",
            "hw",
            "media",
            "white",
            "gop",
            "alexandria",
            "world",
            "mtp",
            "change",
            "ari",
            "melber",
            "deal",
            "daily",
            "george",
            "political",
            "syria",
            "beat",
            "climate",
            "cohen",
            "michael",
            "word",
            "fox",
            "people",
            "war",
            "pelosi",
            "watch",
            "ruhle",
            "velshi",
            "russia",
            "house",
            "bush",
            "sanders",
            "cortez",
            "ocasio",
            "democrats",
            "morning",
            "venezuela",
            "bernie",
            "mueller",
            "border",
            "fts",
            "joe",
            "wall",
            "government",
            "donald",
            "us",
            "shutdown",
            "president",
            "trump"
           ],
           "yaxis": "y"
          }
         ],
         "name": "1"
        },
        {
         "data": [
          {
           "alignmentgroup": "True",
           "bingroup": "y",
           "histfunc": "sum",
           "hovertemplate": "community=2<br>sum of frequency=%{x}<br>word=%{y}<extra></extra>",
           "legendgroup": "",
           "marker": {
            "color": "#636efa",
            "opacity": 0.8,
            "pattern": {
             "shape": ""
            }
           },
           "name": "",
           "offsetgroup": "",
           "orientation": "h",
           "showlegend": false,
           "type": "histogram",
           "x": [
            0.001349968737566,
            0.001349968737566,
            0.0013641789348036,
            0.0013783891320411,
            0.0013925993292786,
            0.0014068095265162,
            0.0014068095265162,
            0.0014352299209913,
            0.0014494401182288,
            0.0014778605127039,
            0.0014778605127039,
            0.0014920707099414,
            0.0015204911044165,
            0.0015204911044165,
            0.0015631216961291,
            0.0015773318933666,
            0.0015773318933666,
            0.0016057522878417,
            0.0016057522878417,
            0.0016199624850792,
            0.0016199624850792,
            0.0016341726823168,
            0.0016341726823168,
            0.0016768032740294,
            0.0017762746546922,
            0.0018046950491672,
            0.0019894276132552,
            0.0020036378104928,
            0.0020604785994429,
            0.0020746887966804,
            0.002088898993918,
            0.0021031091911555,
            0.0021173193883931,
            0.0021315295856306,
            0.0021883703745807,
            0.0023020519524811,
            0.0023588927414312,
            0.0023588927414312,
            0.0023588927414312,
            0.0023731029386687,
            0.0023873131359063,
            0.002486784516569,
            0.0025152049110441,
            0.0025436253055192,
            0.0026573068834195,
            0.0027283578696072,
            0.0029130904336952,
            0.0029415108281702,
            0.0030694026033081,
            0.0031546637867333,
            0.003225714772921,
            0.0033678167452964,
            0.0058119706701529,
            0.0061388052066162,
            0.0062666969817541,
            0.0065509009265048,
            0.0076877167055078,
            0.0077303472972204,
            0.0082419143977718,
            0.025692036605468
           ],
           "xaxis": "x",
           "y": [
            "speech",
            "de",
            "european",
            "raw",
            "venezuela",
            "farage",
            "nigel",
            "un",
            "commons",
            "labour",
            "election",
            "migrants",
            "plan",
            "ahead",
            "mp",
            "french",
            "politics",
            "wall",
            "protesters",
            "attack",
            "bush",
            "court",
            "british",
            "climate",
            "world",
            "jeremy",
            "yellow",
            "paris",
            "confidence",
            "gme",
            "russia",
            "talks",
            "minister",
            "house",
            "bbc",
            "border",
            "people",
            "protests",
            "christmas",
            "debate",
            "china",
            "protest",
            "parliament",
            "london",
            "mps",
            "president",
            "watch",
            "government",
            "police",
            "corbyn",
            "pm",
            "shutdown",
            "us",
            "uk",
            "vote",
            "theresa",
            "trump",
            "eu",
            "deal",
            "brexit"
           ],
           "yaxis": "y"
          }
         ],
         "name": "2"
        },
        {
         "data": [
          {
           "alignmentgroup": "True",
           "bingroup": "y",
           "histfunc": "sum",
           "hovertemplate": "community=3<br>sum of frequency=%{x}<br>word=%{y}<extra></extra>",
           "legendgroup": "",
           "marker": {
            "color": "#636efa",
            "opacity": 0.8,
            "pattern": {
             "shape": ""
            }
           },
           "name": "",
           "offsetgroup": "",
           "orientation": "h",
           "showlegend": false,
           "type": "histogram",
           "x": [
            0.0015782098202745,
            0.0016054203344172,
            0.0016054203344172,
            0.0016190255914885,
            0.0016462361056312,
            0.0016462361056312,
            0.0016462361056312,
            0.0016462361056312,
            0.0016598413627025,
            0.0016734466197738,
            0.0017278676480592,
            0.0017414729051305,
            0.0018367097046298,
            0.0018367097046298,
            0.0018503149617012,
            0.0018503149617012,
            0.0018503149617012,
            0.0018639202187725,
            0.0018639202187725,
            0.0018775254758438,
            0.0018775254758438,
            0.0019047359899865,
            0.0019591570182718,
            0.0019727622753431,
            0.0019727622753431,
            0.0019863675324145,
            0.0019863675324145,
            0.0020679990748425,
            0.0020952095889851,
            0.0021088148460565,
            0.0021360253601991,
            0.0021768411314131,
            0.0021904463884845,
            0.0023128937021265,
            0.0023673147304118,
            0.0023809199874831,
            0.0024081305016258,
            0.0024217357586971,
            0.0024217357586971,
            0.0024489462728398,
            0.0024489462728398,
            0.0025169725581964,
            0.0025169725581964,
            0.0025441830723391,
            0.0027890776996231,
            0.0028571039849797,
            0.0029659460415504,
            0.0030339723269071,
            0.0030339723269071,
            0.0032516564400484,
            0.003442130039047,
            0.003850287751187,
            0.0038774982653297,
            0.0038774982653297,
            0.0039591298077577,
            0.0041496034067563,
            0.0045305506047536,
            0.0055917606563176,
            0.0088570223534373,
            0.0202990435504278
           ],
           "xaxis": "x",
           "y": [
            "venezuela",
            "blanch",
            "jan",
            "white",
            "lionelnation",
            "immersive",
            "🇸",
            "🇺",
            "special",
            "military",
            "kevin",
            "major",
            "bitcoin",
            "truth",
            "america",
            "stream",
            "real",
            "big",
            "war",
            "nation",
            "alert",
            "tv",
            "obama",
            "house",
            "usa",
            "d",
            "christmas",
            "huge",
            "china",
            "government",
            "russia",
            "fbi",
            "coming",
            "shutdown",
            "news",
            "drops",
            "end",
            "clinton",
            "time",
            "prophecy",
            "israel",
            "state",
            "hillary",
            "pelosi",
            "coverage",
            "world",
            "syria",
            "fukushima",
            "robert",
            "update",
            "massive",
            "wall",
            "border",
            "us",
            "breaking",
            "q",
            "announcement",
            "president",
            "mueller",
            "trump"
           ],
           "yaxis": "y"
          }
         ],
         "name": "3"
        },
        {
         "data": [
          {
           "alignmentgroup": "True",
           "bingroup": "y",
           "histfunc": "sum",
           "hovertemplate": "community=4<br>sum of frequency=%{x}<br>word=%{y}<extra></extra>",
           "legendgroup": "",
           "marker": {
            "color": "#636efa",
            "opacity": 0.8,
            "pattern": {
             "shape": ""
            }
           },
           "name": "",
           "offsetgroup": "",
           "orientation": "h",
           "showlegend": false,
           "type": "histogram",
           "x": [
            0.0015066543902234,
            0.0015066543902234,
            0.0015903574119025,
            0.0015903574119025,
            0.0015903574119025,
            0.0015903574119025,
            0.0015903574119025,
            0.0015903574119025,
            0.0015903574119025,
            0.0016740604335816,
            0.0016740604335816,
            0.0016740604335816,
            0.0016740604335816,
            0.0016740604335816,
            0.0016740604335816,
            0.0016740604335816,
            0.0017577634552607,
            0.0017577634552607,
            0.0018414664769398,
            0.0018414664769398,
            0.0018414664769398,
            0.0018414664769398,
            0.0018414664769398,
            0.0019251694986189,
            0.0020088725202979,
            0.0020088725202979,
            0.002092575541977,
            0.002092575541977,
            0.002092575541977,
            0.0021762785636561,
            0.0021762785636561,
            0.0022599815853352,
            0.0023436846070143,
            0.0023436846070143,
            0.0023436846070143,
            0.0024273876286933,
            0.0024273876286933,
            0.0025110906503724,
            0.0025947936720515,
            0.0026784966937306,
            0.0026784966937306,
            0.0027621997154097,
            0.0028459027370888,
            0.0031807148238051,
            0.0031807148238051,
            0.0031807148238051,
            0.0032644178454842,
            0.0032644178454842,
            0.0033481208671633,
            0.0033481208671633,
            0.0034318238888423,
            0.0035155269105214,
            0.0035992299322005,
            0.0036829329538796,
            0.0036829329538796,
            0.0042688541056332,
            0.0045199631706704,
            0.0046036661923495,
            0.0053569933874612,
            0.0069473507993638
           ],
           "xaxis": "x",
           "y": [
            "war",
            "free",
            "podcast",
            "ben",
            "head",
            "anti",
            "covington",
            "stream",
            "uk",
            "liberals",
            "wall",
            "matt",
            "wright",
            "tax",
            "shutdown",
            "sargon",
            "martina",
            "fake",
            "rebel",
            "redpill",
            "youtube",
            "right",
            "markota",
            "feminist",
            "government",
            "yellow",
            "vs",
            "migration",
            "sam",
            "christmas",
            "harris",
            "jordan",
            "levant",
            "rubin",
            "peterson",
            "shimshock",
            "white",
            "gillette",
            "people",
            "literature",
            "rob",
            "brexit",
            "ezra",
            "mgtow",
            "sheila",
            "gunn",
            "occult",
            "trudeau",
            "buckby",
            "reid",
            "left",
            "un",
            "saad",
            "jack",
            "challenges",
            "patreon",
            "menzies",
            "media",
            "david",
            "trump"
           ],
           "yaxis": "y"
          }
         ],
         "name": "4"
        },
        {
         "data": [
          {
           "alignmentgroup": "True",
           "bingroup": "y",
           "histfunc": "sum",
           "hovertemplate": "community=5<br>sum of frequency=%{x}<br>word=%{y}<extra></extra>",
           "legendgroup": "",
           "marker": {
            "color": "#636efa",
            "opacity": 0.8,
            "pattern": {
             "shape": ""
            }
           },
           "name": "",
           "offsetgroup": "",
           "orientation": "h",
           "showlegend": false,
           "type": "histogram",
           "x": [
            0.0013168761020467,
            0.0013391960359797,
            0.0013391960359797,
            0.0013838359038457,
            0.0013838359038457,
            0.0014284757717117,
            0.0014284757717117,
            0.0014507957056447,
            0.0014507957056447,
            0.0014507957056447,
            0.0014731156395777,
            0.0014731156395777,
            0.0014954355735107,
            0.0014954355735107,
            0.0015177555074436,
            0.0015400754413766,
            0.0015400754413766,
            0.0015623953753096,
            0.0016070352431756,
            0.0016293551771086,
            0.0016516751110416,
            0.0016963149789076,
            0.0017409548467736,
            0.0017855947146396,
            0.0018971943843046,
            0.0018971943843046,
            0.0018971943843046,
            0.0020311139879025,
            0.0020311139879025,
            0.0020311139879025,
            0.0020311139879025,
            0.0020757538557685,
            0.0020980737897015,
            0.0021203937236345,
            0.0021650335915005,
            0.0022096734593665,
            0.0022096734593665,
            0.0022319933932995,
            0.0022766332611655,
            0.0022989531950985,
            0.0023659129968975,
            0.0023659129968975,
            0.0023882329308305,
            0.0024998326004955,
            0.0025667924022944,
            0.0026337522040934,
            0.0026560721380264,
            0.0026560721380264,
            0.0028569515434234,
            0.0031024708166863,
            0.0031247907506193,
            0.0034819096935473,
            0.0035042296274803,
            0.0037051090328772,
            0.0042184675133361,
            0.0057362230207798,
            0.0077673370086824,
            0.0103787692788429,
            0.0107805280896368,
            0.0242617681851661
           ],
           "xaxis": "x",
           "y": [
            "court",
            "crisis",
            "right",
            "life",
            "like",
            "dem",
            "left",
            "truth",
            "crash",
            "anti",
            "snow",
            "time",
            "donald",
            "video",
            "bush",
            "maga",
            "boston",
            "covington",
            "old",
            "school",
            "immigration",
            "black",
            "march",
            "cnn",
            "ocasio",
            "bill",
            "rep",
            "end",
            "nancy",
            "america",
            "state",
            "shot",
            "huckabee",
            "cortez",
            "christmas",
            "gun",
            "us",
            "american",
            "sen",
            "morning",
            "illegal",
            "people",
            "mueller",
            "fire",
            "speech",
            "security",
            "schumer",
            "government",
            "police",
            "dems",
            "white",
            "democrats",
            "house",
            "media",
            "shutdown",
            "pelosi",
            "wall",
            "border",
            "president",
            "trump"
           ],
           "yaxis": "y"
          }
         ],
         "name": "5"
        }
       ],
       "layout": {
        "barmode": "relative",
        "legend": {
         "tracegroupgap": 0
        },
        "sliders": [
         {
          "active": 0,
          "currentvalue": {
           "prefix": "community="
          },
          "len": 0.9,
          "pad": {
           "b": 10,
           "t": 60
          },
          "steps": [
           {
            "args": [
             [
              "0"
             ],
             {
              "frame": {
               "duration": 0,
               "redraw": true
              },
              "fromcurrent": true,
              "mode": "immediate",
              "transition": {
               "duration": 0,
               "easing": "linear"
              }
             }
            ],
            "label": "0",
            "method": "animate"
           },
           {
            "args": [
             [
              "1"
             ],
             {
              "frame": {
               "duration": 0,
               "redraw": true
              },
              "fromcurrent": true,
              "mode": "immediate",
              "transition": {
               "duration": 0,
               "easing": "linear"
              }
             }
            ],
            "label": "1",
            "method": "animate"
           },
           {
            "args": [
             [
              "2"
             ],
             {
              "frame": {
               "duration": 0,
               "redraw": true
              },
              "fromcurrent": true,
              "mode": "immediate",
              "transition": {
               "duration": 0,
               "easing": "linear"
              }
             }
            ],
            "label": "2",
            "method": "animate"
           },
           {
            "args": [
             [
              "3"
             ],
             {
              "frame": {
               "duration": 0,
               "redraw": true
              },
              "fromcurrent": true,
              "mode": "immediate",
              "transition": {
               "duration": 0,
               "easing": "linear"
              }
             }
            ],
            "label": "3",
            "method": "animate"
           },
           {
            "args": [
             [
              "4"
             ],
             {
              "frame": {
               "duration": 0,
               "redraw": true
              },
              "fromcurrent": true,
              "mode": "immediate",
              "transition": {
               "duration": 0,
               "easing": "linear"
              }
             }
            ],
            "label": "4",
            "method": "animate"
           },
           {
            "args": [
             [
              "5"
             ],
             {
              "frame": {
               "duration": 0,
               "redraw": true
              },
              "fromcurrent": true,
              "mode": "immediate",
              "transition": {
               "duration": 0,
               "easing": "linear"
              }
             }
            ],
            "label": "5",
            "method": "animate"
           }
          ],
          "x": 0.1,
          "xanchor": "left",
          "y": 0,
          "yanchor": "top"
         }
        ],
        "template": {
         "data": {
          "bar": [
           {
            "error_x": {
             "color": "#2a3f5f"
            },
            "error_y": {
             "color": "#2a3f5f"
            },
            "marker": {
             "line": {
              "color": "#E5ECF6",
              "width": 0.5
             },
             "pattern": {
              "fillmode": "overlay",
              "size": 10,
              "solidity": 0.2
             }
            },
            "type": "bar"
           }
          ],
          "barpolar": [
           {
            "marker": {
             "line": {
              "color": "#E5ECF6",
              "width": 0.5
             },
             "pattern": {
              "fillmode": "overlay",
              "size": 10,
              "solidity": 0.2
             }
            },
            "type": "barpolar"
           }
          ],
          "carpet": [
           {
            "aaxis": {
             "endlinecolor": "#2a3f5f",
             "gridcolor": "white",
             "linecolor": "white",
             "minorgridcolor": "white",
             "startlinecolor": "#2a3f5f"
            },
            "baxis": {
             "endlinecolor": "#2a3f5f",
             "gridcolor": "white",
             "linecolor": "white",
             "minorgridcolor": "white",
             "startlinecolor": "#2a3f5f"
            },
            "type": "carpet"
           }
          ],
          "choropleth": [
           {
            "colorbar": {
             "outlinewidth": 0,
             "ticks": ""
            },
            "type": "choropleth"
           }
          ],
          "contour": [
           {
            "colorbar": {
             "outlinewidth": 0,
             "ticks": ""
            },
            "colorscale": [
             [
              0,
              "#0d0887"
             ],
             [
              0.1111111111111111,
              "#46039f"
             ],
             [
              0.2222222222222222,
              "#7201a8"
             ],
             [
              0.3333333333333333,
              "#9c179e"
             ],
             [
              0.4444444444444444,
              "#bd3786"
             ],
             [
              0.5555555555555556,
              "#d8576b"
             ],
             [
              0.6666666666666666,
              "#ed7953"
             ],
             [
              0.7777777777777778,
              "#fb9f3a"
             ],
             [
              0.8888888888888888,
              "#fdca26"
             ],
             [
              1,
              "#f0f921"
             ]
            ],
            "type": "contour"
           }
          ],
          "contourcarpet": [
           {
            "colorbar": {
             "outlinewidth": 0,
             "ticks": ""
            },
            "type": "contourcarpet"
           }
          ],
          "heatmap": [
           {
            "colorbar": {
             "outlinewidth": 0,
             "ticks": ""
            },
            "colorscale": [
             [
              0,
              "#0d0887"
             ],
             [
              0.1111111111111111,
              "#46039f"
             ],
             [
              0.2222222222222222,
              "#7201a8"
             ],
             [
              0.3333333333333333,
              "#9c179e"
             ],
             [
              0.4444444444444444,
              "#bd3786"
             ],
             [
              0.5555555555555556,
              "#d8576b"
             ],
             [
              0.6666666666666666,
              "#ed7953"
             ],
             [
              0.7777777777777778,
              "#fb9f3a"
             ],
             [
              0.8888888888888888,
              "#fdca26"
             ],
             [
              1,
              "#f0f921"
             ]
            ],
            "type": "heatmap"
           }
          ],
          "heatmapgl": [
           {
            "colorbar": {
             "outlinewidth": 0,
             "ticks": ""
            },
            "colorscale": [
             [
              0,
              "#0d0887"
             ],
             [
              0.1111111111111111,
              "#46039f"
             ],
             [
              0.2222222222222222,
              "#7201a8"
             ],
             [
              0.3333333333333333,
              "#9c179e"
             ],
             [
              0.4444444444444444,
              "#bd3786"
             ],
             [
              0.5555555555555556,
              "#d8576b"
             ],
             [
              0.6666666666666666,
              "#ed7953"
             ],
             [
              0.7777777777777778,
              "#fb9f3a"
             ],
             [
              0.8888888888888888,
              "#fdca26"
             ],
             [
              1,
              "#f0f921"
             ]
            ],
            "type": "heatmapgl"
           }
          ],
          "histogram": [
           {
            "marker": {
             "pattern": {
              "fillmode": "overlay",
              "size": 10,
              "solidity": 0.2
             }
            },
            "type": "histogram"
           }
          ],
          "histogram2d": [
           {
            "colorbar": {
             "outlinewidth": 0,
             "ticks": ""
            },
            "colorscale": [
             [
              0,
              "#0d0887"
             ],
             [
              0.1111111111111111,
              "#46039f"
             ],
             [
              0.2222222222222222,
              "#7201a8"
             ],
             [
              0.3333333333333333,
              "#9c179e"
             ],
             [
              0.4444444444444444,
              "#bd3786"
             ],
             [
              0.5555555555555556,
              "#d8576b"
             ],
             [
              0.6666666666666666,
              "#ed7953"
             ],
             [
              0.7777777777777778,
              "#fb9f3a"
             ],
             [
              0.8888888888888888,
              "#fdca26"
             ],
             [
              1,
              "#f0f921"
             ]
            ],
            "type": "histogram2d"
           }
          ],
          "histogram2dcontour": [
           {
            "colorbar": {
             "outlinewidth": 0,
             "ticks": ""
            },
            "colorscale": [
             [
              0,
              "#0d0887"
             ],
             [
              0.1111111111111111,
              "#46039f"
             ],
             [
              0.2222222222222222,
              "#7201a8"
             ],
             [
              0.3333333333333333,
              "#9c179e"
             ],
             [
              0.4444444444444444,
              "#bd3786"
             ],
             [
              0.5555555555555556,
              "#d8576b"
             ],
             [
              0.6666666666666666,
              "#ed7953"
             ],
             [
              0.7777777777777778,
              "#fb9f3a"
             ],
             [
              0.8888888888888888,
              "#fdca26"
             ],
             [
              1,
              "#f0f921"
             ]
            ],
            "type": "histogram2dcontour"
           }
          ],
          "mesh3d": [
           {
            "colorbar": {
             "outlinewidth": 0,
             "ticks": ""
            },
            "type": "mesh3d"
           }
          ],
          "parcoords": [
           {
            "line": {
             "colorbar": {
              "outlinewidth": 0,
              "ticks": ""
             }
            },
            "type": "parcoords"
           }
          ],
          "pie": [
           {
            "automargin": true,
            "type": "pie"
           }
          ],
          "scatter": [
           {
            "fillpattern": {
             "fillmode": "overlay",
             "size": 10,
             "solidity": 0.2
            },
            "type": "scatter"
           }
          ],
          "scatter3d": [
           {
            "line": {
             "colorbar": {
              "outlinewidth": 0,
              "ticks": ""
             }
            },
            "marker": {
             "colorbar": {
              "outlinewidth": 0,
              "ticks": ""
             }
            },
            "type": "scatter3d"
           }
          ],
          "scattercarpet": [
           {
            "marker": {
             "colorbar": {
              "outlinewidth": 0,
              "ticks": ""
             }
            },
            "type": "scattercarpet"
           }
          ],
          "scattergeo": [
           {
            "marker": {
             "colorbar": {
              "outlinewidth": 0,
              "ticks": ""
             }
            },
            "type": "scattergeo"
           }
          ],
          "scattergl": [
           {
            "marker": {
             "colorbar": {
              "outlinewidth": 0,
              "ticks": ""
             }
            },
            "type": "scattergl"
           }
          ],
          "scattermapbox": [
           {
            "marker": {
             "colorbar": {
              "outlinewidth": 0,
              "ticks": ""
             }
            },
            "type": "scattermapbox"
           }
          ],
          "scatterpolar": [
           {
            "marker": {
             "colorbar": {
              "outlinewidth": 0,
              "ticks": ""
             }
            },
            "type": "scatterpolar"
           }
          ],
          "scatterpolargl": [
           {
            "marker": {
             "colorbar": {
              "outlinewidth": 0,
              "ticks": ""
             }
            },
            "type": "scatterpolargl"
           }
          ],
          "scatterternary": [
           {
            "marker": {
             "colorbar": {
              "outlinewidth": 0,
              "ticks": ""
             }
            },
            "type": "scatterternary"
           }
          ],
          "surface": [
           {
            "colorbar": {
             "outlinewidth": 0,
             "ticks": ""
            },
            "colorscale": [
             [
              0,
              "#0d0887"
             ],
             [
              0.1111111111111111,
              "#46039f"
             ],
             [
              0.2222222222222222,
              "#7201a8"
             ],
             [
              0.3333333333333333,
              "#9c179e"
             ],
             [
              0.4444444444444444,
              "#bd3786"
             ],
             [
              0.5555555555555556,
              "#d8576b"
             ],
             [
              0.6666666666666666,
              "#ed7953"
             ],
             [
              0.7777777777777778,
              "#fb9f3a"
             ],
             [
              0.8888888888888888,
              "#fdca26"
             ],
             [
              1,
              "#f0f921"
             ]
            ],
            "type": "surface"
           }
          ],
          "table": [
           {
            "cells": {
             "fill": {
              "color": "#EBF0F8"
             },
             "line": {
              "color": "white"
             }
            },
            "header": {
             "fill": {
              "color": "#C8D4E3"
             },
             "line": {
              "color": "white"
             }
            },
            "type": "table"
           }
          ]
         },
         "layout": {
          "annotationdefaults": {
           "arrowcolor": "#2a3f5f",
           "arrowhead": 0,
           "arrowwidth": 1
          },
          "autotypenumbers": "strict",
          "coloraxis": {
           "colorbar": {
            "outlinewidth": 0,
            "ticks": ""
           }
          },
          "colorscale": {
           "diverging": [
            [
             0,
             "#8e0152"
            ],
            [
             0.1,
             "#c51b7d"
            ],
            [
             0.2,
             "#de77ae"
            ],
            [
             0.3,
             "#f1b6da"
            ],
            [
             0.4,
             "#fde0ef"
            ],
            [
             0.5,
             "#f7f7f7"
            ],
            [
             0.6,
             "#e6f5d0"
            ],
            [
             0.7,
             "#b8e186"
            ],
            [
             0.8,
             "#7fbc41"
            ],
            [
             0.9,
             "#4d9221"
            ],
            [
             1,
             "#276419"
            ]
           ],
           "sequential": [
            [
             0,
             "#0d0887"
            ],
            [
             0.1111111111111111,
             "#46039f"
            ],
            [
             0.2222222222222222,
             "#7201a8"
            ],
            [
             0.3333333333333333,
             "#9c179e"
            ],
            [
             0.4444444444444444,
             "#bd3786"
            ],
            [
             0.5555555555555556,
             "#d8576b"
            ],
            [
             0.6666666666666666,
             "#ed7953"
            ],
            [
             0.7777777777777778,
             "#fb9f3a"
            ],
            [
             0.8888888888888888,
             "#fdca26"
            ],
            [
             1,
             "#f0f921"
            ]
           ],
           "sequentialminus": [
            [
             0,
             "#0d0887"
            ],
            [
             0.1111111111111111,
             "#46039f"
            ],
            [
             0.2222222222222222,
             "#7201a8"
            ],
            [
             0.3333333333333333,
             "#9c179e"
            ],
            [
             0.4444444444444444,
             "#bd3786"
            ],
            [
             0.5555555555555556,
             "#d8576b"
            ],
            [
             0.6666666666666666,
             "#ed7953"
            ],
            [
             0.7777777777777778,
             "#fb9f3a"
            ],
            [
             0.8888888888888888,
             "#fdca26"
            ],
            [
             1,
             "#f0f921"
            ]
           ]
          },
          "colorway": [
           "#636efa",
           "#EF553B",
           "#00cc96",
           "#ab63fa",
           "#FFA15A",
           "#19d3f3",
           "#FF6692",
           "#B6E880",
           "#FF97FF",
           "#FECB52"
          ],
          "font": {
           "color": "#2a3f5f"
          },
          "geo": {
           "bgcolor": "white",
           "lakecolor": "white",
           "landcolor": "#E5ECF6",
           "showlakes": true,
           "showland": true,
           "subunitcolor": "white"
          },
          "hoverlabel": {
           "align": "left"
          },
          "hovermode": "closest",
          "mapbox": {
           "style": "light"
          },
          "paper_bgcolor": "white",
          "plot_bgcolor": "#E5ECF6",
          "polar": {
           "angularaxis": {
            "gridcolor": "white",
            "linecolor": "white",
            "ticks": ""
           },
           "bgcolor": "#E5ECF6",
           "radialaxis": {
            "gridcolor": "white",
            "linecolor": "white",
            "ticks": ""
           }
          },
          "scene": {
           "xaxis": {
            "backgroundcolor": "#E5ECF6",
            "gridcolor": "white",
            "gridwidth": 2,
            "linecolor": "white",
            "showbackground": true,
            "ticks": "",
            "zerolinecolor": "white"
           },
           "yaxis": {
            "backgroundcolor": "#E5ECF6",
            "gridcolor": "white",
            "gridwidth": 2,
            "linecolor": "white",
            "showbackground": true,
            "ticks": "",
            "zerolinecolor": "white"
           },
           "zaxis": {
            "backgroundcolor": "#E5ECF6",
            "gridcolor": "white",
            "gridwidth": 2,
            "linecolor": "white",
            "showbackground": true,
            "ticks": "",
            "zerolinecolor": "white"
           }
          },
          "shapedefaults": {
           "line": {
            "color": "#2a3f5f"
           }
          },
          "ternary": {
           "aaxis": {
            "gridcolor": "white",
            "linecolor": "white",
            "ticks": ""
           },
           "baxis": {
            "gridcolor": "white",
            "linecolor": "white",
            "ticks": ""
           },
           "bgcolor": "#E5ECF6",
           "caxis": {
            "gridcolor": "white",
            "linecolor": "white",
            "ticks": ""
           }
          },
          "title": {
           "x": 0.05
          },
          "xaxis": {
           "automargin": true,
           "gridcolor": "white",
           "linecolor": "white",
           "ticks": "",
           "title": {
            "standoff": 15
           },
           "zerolinecolor": "white",
           "zerolinewidth": 2
          },
          "yaxis": {
           "automargin": true,
           "gridcolor": "white",
           "linecolor": "white",
           "ticks": "",
           "title": {
            "standoff": 15
           },
           "zerolinecolor": "white",
           "zerolinewidth": 2
          }
         }
        },
        "title": {
         "text": "Histogram of polarization scores"
        },
        "xaxis": {
         "anchor": "y",
         "domain": [
          0,
          1
         ],
         "range": [
          0,
          0.035
         ],
         "title": {
          "text": "sum of frequency"
         }
        },
        "yaxis": {
         "anchor": "x",
         "domain": [
          0,
          1
         ],
         "title": {
          "text": "word"
         }
        }
       }
      }
     },
     "metadata": {},
     "output_type": "display_data"
    }
   ],
   "source": [
    "# Read previously computed files\n",
    "\n",
    "data = pd.DataFrame()\n",
    "for community in communities:\n",
    "    temp = pd.read_csv(DIR_OUT+\"communities_comparison/titles_occurences_\"+str(community)+\"_\"+word+\"_\"+start_date+\"_\"+end_date+\".csv\", sep=';',index_col=0)\n",
    "    myarray = np.empty(len(temp), dtype=int)\n",
    "    myarray.fill(community)\n",
    "    temp.insert(0,column='community',value=myarray)\n",
    "    temp = temp.sort_values(by='frequency',ascending=True)\n",
    "    data = pd.concat([data, temp[len(temp)-60:len(temp)]])\n",
    "\n",
    "display(data)\n",
    "\n",
    "# Construct histograms\n",
    "\n",
    "fig = px.histogram(data,\n",
    "                   x=\"frequency\",\n",
    "                   y=\"word\",\n",
    "                   title='Histogram of polarization scores',\n",
    "                   animation_frame=\"community\",\n",
    "                   opacity=0.8,\n",
    "                   range_x=[0,0.035],\n",
    "                   orientation='h')\n",
    "\n",
    "fig[\"layout\"].pop(\"updatemenus\")\n",
    "fig.write_html(\"figures/60_most_cited_topics.html\")\n",
    "fig.show()"
   ]
  },
  {
   "attachments": {},
   "cell_type": "markdown",
   "metadata": {},
   "source": [
    "The analysis of occurences of words in words ensembles is now performed."
   ]
  },
  {
   "cell_type": "code",
   "execution_count": 30,
   "metadata": {},
   "outputs": [
    {
     "data": {
      "application/vnd.plotly.v1+json": {
       "config": {
        "plotlyServerURL": "https://plot.ly"
       },
       "data": [
        {
         "hovertemplate": "Topics :=shutdown<br>community=%{x}<br>frequency=%{y}<extra></extra>",
         "legendgroup": "shutdown",
         "line": {
          "color": "#636efa",
          "dash": "solid"
         },
         "marker": {
          "symbol": "circle"
         },
         "mode": "lines",
         "name": "shutdown",
         "orientation": "v",
         "showlegend": true,
         "type": "scatter",
         "x": [
          0,
          1,
          2,
          3,
          4,
          5
         ],
         "xaxis": "x",
         "y": [
          0.0039522418465602,
          0.0064954100131142,
          0.0033678167452964,
          0.0023128937021265,
          0.0016740604335816,
          0.0042184675133361
         ],
         "yaxis": "y"
        },
        {
         "hovertemplate": "Topics :=wall<br>community=%{x}<br>frequency=%{y}<extra></extra>",
         "legendgroup": "wall",
         "line": {
          "color": "#EF553B",
          "dash": "solid"
         },
         "marker": {
          "symbol": "circle"
         },
         "mode": "lines",
         "name": "wall",
         "orientation": "v",
         "showlegend": true,
         "type": "scatter",
         "x": [
          0,
          1,
          2,
          3,
          4,
          5
         ],
         "xaxis": "x",
         "y": [
          0.0009668396764503,
          0.0042428450204427,
          0.0016057522878417,
          0.003850287751187,
          0.0016740604335816,
          0.0077673370086824
         ],
         "yaxis": "y"
        },
        {
         "hovertemplate": "Topics :=security<br>community=%{x}<br>frequency=%{y}<extra></extra>",
         "legendgroup": "security",
         "line": {
          "color": "#00cc96",
          "dash": "solid"
         },
         "marker": {
          "symbol": "circle"
         },
         "mode": "lines",
         "name": "security",
         "orientation": "v",
         "showlegend": true,
         "type": "scatter",
         "x": [
          0,
          1,
          2,
          3,
          4,
          5
         ],
         "xaxis": "x",
         "y": [
          0.000743245061768,
          0.0013885674612358,
          0.0010657647928153,
          0.0009523679949932,
          0.0005022181300744,
          0.0026337522040934
         ],
         "yaxis": "y"
        },
        {
         "hovertemplate": "Topics :=shooting<br>community=%{x}<br>frequency=%{y}<extra></extra>",
         "legendgroup": "shooting",
         "line": {
          "color": "#ab63fa",
          "dash": "solid"
         },
         "marker": {
          "symbol": "circle"
         },
         "mode": "lines",
         "name": "shooting",
         "orientation": "v",
         "showlegend": true,
         "type": "scatter",
         "x": [
          0,
          1,
          2,
          3,
          4,
          5
         ],
         "xaxis": "x",
         "y": [
          0.0033911849893482,
          0.0002622849649001,
          0.0007247200591144,
          0.0002040788560699,
          0.0001674060433581,
          0.0009597571591188
         ],
         "yaxis": "y"
        },
        {
         "hovertemplate": "Topics :=pelosi<br>community=%{x}<br>frequency=%{y}<extra></extra>",
         "legendgroup": "pelosi",
         "line": {
          "color": "#FFA15A",
          "dash": "solid"
         },
         "marker": {
          "symbol": "circle"
         },
         "mode": "lines",
         "name": "pelosi",
         "orientation": "v",
         "showlegend": true,
         "type": "scatter",
         "x": [
          0,
          1,
          2,
          3,
          4,
          5
         ],
         "xaxis": "x",
         "y": [
          0.0005092988445541,
          0.0025148499575715,
          0.001165236173478,
          0.0025441830723391,
          0.0005859211517535,
          0.0057362230207798
         ],
         "yaxis": "y"
        },
        {
         "hovertemplate": "Topics :=immigration<br>community=%{x}<br>frequency=%{y}<extra></extra>",
         "legendgroup": "immigration",
         "line": {
          "color": "#19d3f3",
          "dash": "solid"
         },
         "marker": {
          "symbol": "circle"
         },
         "mode": "lines",
         "name": "immigration",
         "orientation": "v",
         "showlegend": true,
         "type": "scatter",
         "x": [
          0,
          1,
          2,
          3,
          4,
          5
         ],
         "xaxis": "x",
         "y": [
          0.0002132430121507,
          0.0006017125665355,
          0.0005115671005513,
          0.0003129209126406,
          0.001088139281828,
          0.0016516751110416
         ],
         "yaxis": "y"
        },
        {
         "hovertemplate": "Topics :=maga<br>community=%{x}<br>frequency=%{y}<extra></extra>",
         "legendgroup": "maga",
         "line": {
          "color": "#FF6692",
          "dash": "solid"
         },
         "marker": {
          "symbol": "circle"
         },
         "mode": "lines",
         "name": "maga",
         "orientation": "v",
         "showlegend": true,
         "type": "scatter",
         "x": [
          0,
          1,
          2,
          3,
          4,
          5
         ],
         "xaxis": "x",
         "y": [
          0.00003312512810108133,
          0.0003085705469412,
          0.000014210197237537656,
          0.0004625787404253,
          0.0015066543902234,
          0.0015400754413766
         ],
         "yaxis": "y"
        }
       ],
       "layout": {
        "height": 400,
        "legend": {
         "title": {
          "text": "Topics :"
         },
         "tracegroupgap": 0
        },
        "template": {
         "data": {
          "bar": [
           {
            "error_x": {
             "color": "#2a3f5f"
            },
            "error_y": {
             "color": "#2a3f5f"
            },
            "marker": {
             "line": {
              "color": "#E5ECF6",
              "width": 0.5
             },
             "pattern": {
              "fillmode": "overlay",
              "size": 10,
              "solidity": 0.2
             }
            },
            "type": "bar"
           }
          ],
          "barpolar": [
           {
            "marker": {
             "line": {
              "color": "#E5ECF6",
              "width": 0.5
             },
             "pattern": {
              "fillmode": "overlay",
              "size": 10,
              "solidity": 0.2
             }
            },
            "type": "barpolar"
           }
          ],
          "carpet": [
           {
            "aaxis": {
             "endlinecolor": "#2a3f5f",
             "gridcolor": "white",
             "linecolor": "white",
             "minorgridcolor": "white",
             "startlinecolor": "#2a3f5f"
            },
            "baxis": {
             "endlinecolor": "#2a3f5f",
             "gridcolor": "white",
             "linecolor": "white",
             "minorgridcolor": "white",
             "startlinecolor": "#2a3f5f"
            },
            "type": "carpet"
           }
          ],
          "choropleth": [
           {
            "colorbar": {
             "outlinewidth": 0,
             "ticks": ""
            },
            "type": "choropleth"
           }
          ],
          "contour": [
           {
            "colorbar": {
             "outlinewidth": 0,
             "ticks": ""
            },
            "colorscale": [
             [
              0,
              "#0d0887"
             ],
             [
              0.1111111111111111,
              "#46039f"
             ],
             [
              0.2222222222222222,
              "#7201a8"
             ],
             [
              0.3333333333333333,
              "#9c179e"
             ],
             [
              0.4444444444444444,
              "#bd3786"
             ],
             [
              0.5555555555555556,
              "#d8576b"
             ],
             [
              0.6666666666666666,
              "#ed7953"
             ],
             [
              0.7777777777777778,
              "#fb9f3a"
             ],
             [
              0.8888888888888888,
              "#fdca26"
             ],
             [
              1,
              "#f0f921"
             ]
            ],
            "type": "contour"
           }
          ],
          "contourcarpet": [
           {
            "colorbar": {
             "outlinewidth": 0,
             "ticks": ""
            },
            "type": "contourcarpet"
           }
          ],
          "heatmap": [
           {
            "colorbar": {
             "outlinewidth": 0,
             "ticks": ""
            },
            "colorscale": [
             [
              0,
              "#0d0887"
             ],
             [
              0.1111111111111111,
              "#46039f"
             ],
             [
              0.2222222222222222,
              "#7201a8"
             ],
             [
              0.3333333333333333,
              "#9c179e"
             ],
             [
              0.4444444444444444,
              "#bd3786"
             ],
             [
              0.5555555555555556,
              "#d8576b"
             ],
             [
              0.6666666666666666,
              "#ed7953"
             ],
             [
              0.7777777777777778,
              "#fb9f3a"
             ],
             [
              0.8888888888888888,
              "#fdca26"
             ],
             [
              1,
              "#f0f921"
             ]
            ],
            "type": "heatmap"
           }
          ],
          "heatmapgl": [
           {
            "colorbar": {
             "outlinewidth": 0,
             "ticks": ""
            },
            "colorscale": [
             [
              0,
              "#0d0887"
             ],
             [
              0.1111111111111111,
              "#46039f"
             ],
             [
              0.2222222222222222,
              "#7201a8"
             ],
             [
              0.3333333333333333,
              "#9c179e"
             ],
             [
              0.4444444444444444,
              "#bd3786"
             ],
             [
              0.5555555555555556,
              "#d8576b"
             ],
             [
              0.6666666666666666,
              "#ed7953"
             ],
             [
              0.7777777777777778,
              "#fb9f3a"
             ],
             [
              0.8888888888888888,
              "#fdca26"
             ],
             [
              1,
              "#f0f921"
             ]
            ],
            "type": "heatmapgl"
           }
          ],
          "histogram": [
           {
            "marker": {
             "pattern": {
              "fillmode": "overlay",
              "size": 10,
              "solidity": 0.2
             }
            },
            "type": "histogram"
           }
          ],
          "histogram2d": [
           {
            "colorbar": {
             "outlinewidth": 0,
             "ticks": ""
            },
            "colorscale": [
             [
              0,
              "#0d0887"
             ],
             [
              0.1111111111111111,
              "#46039f"
             ],
             [
              0.2222222222222222,
              "#7201a8"
             ],
             [
              0.3333333333333333,
              "#9c179e"
             ],
             [
              0.4444444444444444,
              "#bd3786"
             ],
             [
              0.5555555555555556,
              "#d8576b"
             ],
             [
              0.6666666666666666,
              "#ed7953"
             ],
             [
              0.7777777777777778,
              "#fb9f3a"
             ],
             [
              0.8888888888888888,
              "#fdca26"
             ],
             [
              1,
              "#f0f921"
             ]
            ],
            "type": "histogram2d"
           }
          ],
          "histogram2dcontour": [
           {
            "colorbar": {
             "outlinewidth": 0,
             "ticks": ""
            },
            "colorscale": [
             [
              0,
              "#0d0887"
             ],
             [
              0.1111111111111111,
              "#46039f"
             ],
             [
              0.2222222222222222,
              "#7201a8"
             ],
             [
              0.3333333333333333,
              "#9c179e"
             ],
             [
              0.4444444444444444,
              "#bd3786"
             ],
             [
              0.5555555555555556,
              "#d8576b"
             ],
             [
              0.6666666666666666,
              "#ed7953"
             ],
             [
              0.7777777777777778,
              "#fb9f3a"
             ],
             [
              0.8888888888888888,
              "#fdca26"
             ],
             [
              1,
              "#f0f921"
             ]
            ],
            "type": "histogram2dcontour"
           }
          ],
          "mesh3d": [
           {
            "colorbar": {
             "outlinewidth": 0,
             "ticks": ""
            },
            "type": "mesh3d"
           }
          ],
          "parcoords": [
           {
            "line": {
             "colorbar": {
              "outlinewidth": 0,
              "ticks": ""
             }
            },
            "type": "parcoords"
           }
          ],
          "pie": [
           {
            "automargin": true,
            "type": "pie"
           }
          ],
          "scatter": [
           {
            "fillpattern": {
             "fillmode": "overlay",
             "size": 10,
             "solidity": 0.2
            },
            "type": "scatter"
           }
          ],
          "scatter3d": [
           {
            "line": {
             "colorbar": {
              "outlinewidth": 0,
              "ticks": ""
             }
            },
            "marker": {
             "colorbar": {
              "outlinewidth": 0,
              "ticks": ""
             }
            },
            "type": "scatter3d"
           }
          ],
          "scattercarpet": [
           {
            "marker": {
             "colorbar": {
              "outlinewidth": 0,
              "ticks": ""
             }
            },
            "type": "scattercarpet"
           }
          ],
          "scattergeo": [
           {
            "marker": {
             "colorbar": {
              "outlinewidth": 0,
              "ticks": ""
             }
            },
            "type": "scattergeo"
           }
          ],
          "scattergl": [
           {
            "marker": {
             "colorbar": {
              "outlinewidth": 0,
              "ticks": ""
             }
            },
            "type": "scattergl"
           }
          ],
          "scattermapbox": [
           {
            "marker": {
             "colorbar": {
              "outlinewidth": 0,
              "ticks": ""
             }
            },
            "type": "scattermapbox"
           }
          ],
          "scatterpolar": [
           {
            "marker": {
             "colorbar": {
              "outlinewidth": 0,
              "ticks": ""
             }
            },
            "type": "scatterpolar"
           }
          ],
          "scatterpolargl": [
           {
            "marker": {
             "colorbar": {
              "outlinewidth": 0,
              "ticks": ""
             }
            },
            "type": "scatterpolargl"
           }
          ],
          "scatterternary": [
           {
            "marker": {
             "colorbar": {
              "outlinewidth": 0,
              "ticks": ""
             }
            },
            "type": "scatterternary"
           }
          ],
          "surface": [
           {
            "colorbar": {
             "outlinewidth": 0,
             "ticks": ""
            },
            "colorscale": [
             [
              0,
              "#0d0887"
             ],
             [
              0.1111111111111111,
              "#46039f"
             ],
             [
              0.2222222222222222,
              "#7201a8"
             ],
             [
              0.3333333333333333,
              "#9c179e"
             ],
             [
              0.4444444444444444,
              "#bd3786"
             ],
             [
              0.5555555555555556,
              "#d8576b"
             ],
             [
              0.6666666666666666,
              "#ed7953"
             ],
             [
              0.7777777777777778,
              "#fb9f3a"
             ],
             [
              0.8888888888888888,
              "#fdca26"
             ],
             [
              1,
              "#f0f921"
             ]
            ],
            "type": "surface"
           }
          ],
          "table": [
           {
            "cells": {
             "fill": {
              "color": "#EBF0F8"
             },
             "line": {
              "color": "white"
             }
            },
            "header": {
             "fill": {
              "color": "#C8D4E3"
             },
             "line": {
              "color": "white"
             }
            },
            "type": "table"
           }
          ]
         },
         "layout": {
          "annotationdefaults": {
           "arrowcolor": "#2a3f5f",
           "arrowhead": 0,
           "arrowwidth": 1
          },
          "autotypenumbers": "strict",
          "coloraxis": {
           "colorbar": {
            "outlinewidth": 0,
            "ticks": ""
           }
          },
          "colorscale": {
           "diverging": [
            [
             0,
             "#8e0152"
            ],
            [
             0.1,
             "#c51b7d"
            ],
            [
             0.2,
             "#de77ae"
            ],
            [
             0.3,
             "#f1b6da"
            ],
            [
             0.4,
             "#fde0ef"
            ],
            [
             0.5,
             "#f7f7f7"
            ],
            [
             0.6,
             "#e6f5d0"
            ],
            [
             0.7,
             "#b8e186"
            ],
            [
             0.8,
             "#7fbc41"
            ],
            [
             0.9,
             "#4d9221"
            ],
            [
             1,
             "#276419"
            ]
           ],
           "sequential": [
            [
             0,
             "#0d0887"
            ],
            [
             0.1111111111111111,
             "#46039f"
            ],
            [
             0.2222222222222222,
             "#7201a8"
            ],
            [
             0.3333333333333333,
             "#9c179e"
            ],
            [
             0.4444444444444444,
             "#bd3786"
            ],
            [
             0.5555555555555556,
             "#d8576b"
            ],
            [
             0.6666666666666666,
             "#ed7953"
            ],
            [
             0.7777777777777778,
             "#fb9f3a"
            ],
            [
             0.8888888888888888,
             "#fdca26"
            ],
            [
             1,
             "#f0f921"
            ]
           ],
           "sequentialminus": [
            [
             0,
             "#0d0887"
            ],
            [
             0.1111111111111111,
             "#46039f"
            ],
            [
             0.2222222222222222,
             "#7201a8"
            ],
            [
             0.3333333333333333,
             "#9c179e"
            ],
            [
             0.4444444444444444,
             "#bd3786"
            ],
            [
             0.5555555555555556,
             "#d8576b"
            ],
            [
             0.6666666666666666,
             "#ed7953"
            ],
            [
             0.7777777777777778,
             "#fb9f3a"
            ],
            [
             0.8888888888888888,
             "#fdca26"
            ],
            [
             1,
             "#f0f921"
            ]
           ]
          },
          "colorway": [
           "#636efa",
           "#EF553B",
           "#00cc96",
           "#ab63fa",
           "#FFA15A",
           "#19d3f3",
           "#FF6692",
           "#B6E880",
           "#FF97FF",
           "#FECB52"
          ],
          "font": {
           "color": "#2a3f5f"
          },
          "geo": {
           "bgcolor": "white",
           "lakecolor": "white",
           "landcolor": "#E5ECF6",
           "showlakes": true,
           "showland": true,
           "subunitcolor": "white"
          },
          "hoverlabel": {
           "align": "left"
          },
          "hovermode": "closest",
          "mapbox": {
           "style": "light"
          },
          "paper_bgcolor": "white",
          "plot_bgcolor": "#E5ECF6",
          "polar": {
           "angularaxis": {
            "gridcolor": "white",
            "linecolor": "white",
            "ticks": ""
           },
           "bgcolor": "#E5ECF6",
           "radialaxis": {
            "gridcolor": "white",
            "linecolor": "white",
            "ticks": ""
           }
          },
          "scene": {
           "xaxis": {
            "backgroundcolor": "#E5ECF6",
            "gridcolor": "white",
            "gridwidth": 2,
            "linecolor": "white",
            "showbackground": true,
            "ticks": "",
            "zerolinecolor": "white"
           },
           "yaxis": {
            "backgroundcolor": "#E5ECF6",
            "gridcolor": "white",
            "gridwidth": 2,
            "linecolor": "white",
            "showbackground": true,
            "ticks": "",
            "zerolinecolor": "white"
           },
           "zaxis": {
            "backgroundcolor": "#E5ECF6",
            "gridcolor": "white",
            "gridwidth": 2,
            "linecolor": "white",
            "showbackground": true,
            "ticks": "",
            "zerolinecolor": "white"
           }
          },
          "shapedefaults": {
           "line": {
            "color": "#2a3f5f"
           }
          },
          "ternary": {
           "aaxis": {
            "gridcolor": "white",
            "linecolor": "white",
            "ticks": ""
           },
           "baxis": {
            "gridcolor": "white",
            "linecolor": "white",
            "ticks": ""
           },
           "bgcolor": "#E5ECF6",
           "caxis": {
            "gridcolor": "white",
            "linecolor": "white",
            "ticks": ""
           }
          },
          "title": {
           "x": 0.05
          },
          "xaxis": {
           "automargin": true,
           "gridcolor": "white",
           "linecolor": "white",
           "ticks": "",
           "title": {
            "standoff": 15
           },
           "zerolinecolor": "white",
           "zerolinewidth": 2
          },
          "yaxis": {
           "automargin": true,
           "gridcolor": "white",
           "linecolor": "white",
           "ticks": "",
           "title": {
            "standoff": 15
           },
           "zerolinecolor": "white",
           "zerolinewidth": 2
          }
         }
        },
        "title": {
         "text": "Words occurences in different communities : national politics topics"
        },
        "width": 600,
        "xaxis": {
         "anchor": "y",
         "domain": [
          0,
          1
         ],
         "title": {
          "text": "community"
         }
        },
        "yaxis": {
         "anchor": "x",
         "domain": [
          0,
          1
         ],
         "title": {
          "text": "frequency"
         }
        }
       }
      }
     },
     "metadata": {},
     "output_type": "display_data"
    }
   ],
   "source": [
    "# Select the words ensemble to consider :\n",
    "\n",
    "nb_list = 1\n",
    "\n",
    "trump_list = ['maga','security','trump','wall','evangelist']\n",
    "national_list = ['shutdown','wall','security','shooting','pelosi','immigration','maga']\n",
    "surnatural_list = ['ufo','prophecy','christ','truth','spirit','pray','prophet']\n",
    "conspi_list = ['satanic','fake','truth','alien','lie','moon','9/11','pedophile']\n",
    "international_list = ['brexit','eu','china','europe','macron','boris','merkel','yemen','asia','africa','india','modi','morrison']\n",
    "\n",
    "# Filtering\n",
    "\n",
    "result = []\n",
    "result_df = pd.DataFrame()\n",
    "\n",
    "list_of_lists = [trump_list, national_list, surnatural_list, conspi_list, international_list]\n",
    "list_of_lists_name = ['trump', 'national politics', 'religion and beliefs', 'conspirationist', 'international']\n",
    "list_name = list_of_lists_name[nb_list]\n",
    "targets_list = list_of_lists[nb_list]\n",
    "\n",
    "for j in range(len(targets_list)):\n",
    "    temp = pd.DataFrame(columns = ['community','rank_title','rank_tag','title_frequency'])\n",
    "    target = targets_list[j]\n",
    "    use_tags = False\n",
    "\n",
    "    for i in range(0,6):\n",
    "        titles=pd.read_csv(DIR_OUT+\"communities_comparison/titles_occurences_\"+str(i)+\"_\"+word+\"_\"+start_date+\"_\"+end_date+\".csv\", sep=';')\n",
    "        if use_tags :\n",
    "            if (titles['word']==target).any() or (tags['word']==target).any():\n",
    "                tags=pd.read_csv(DIR_OUT+\"communities_comparison/tags_occurences_\"+str(i)+\"_\"+word+\"_\"+start_date+\"_\"+end_date+\".csv\", sep=';')\n",
    "                temp.loc[len(temp.index)] = [i, titles[titles['word']==target].index.values[0], tags[tags['word']==word].index.values[0], float(titles[titles['word']==target]['frequency'])]\n",
    "            else:\n",
    "                display(target + \" is not in community \" + str(i))\n",
    "                temp.loc[len(temp.index)] = [i,math.inf, '-', 0]\n",
    "        else:\n",
    "            if (titles['word']==target).any():\n",
    "                temp.loc[len(temp.index)] = [i, titles[titles['word']==target].index.values[0], '-', float(titles[titles['word']==target]['frequency'])]\n",
    "            else:\n",
    "                display(target + \" is not in community \" + str(i))\n",
    "                temp.loc[len(temp.index)] = [i,math.inf, '-', 0]\n",
    "\n",
    "    result = result + [temp]\n",
    "\n",
    "############ GRAPH : Words occurences\n",
    "\n",
    "data = pd.DataFrame()\n",
    "for i in range(0,len(targets_list)):\n",
    "    data.insert(i, column=targets_list[i], value=result[i]['title_frequency'])\n",
    "\n",
    "#display(data)\n",
    "\n",
    "fig = px.line(data, title='Words occurences in different communities : '+list_name+' topics',labels={'value':'frequency','index':'community','variable':'Topics :'},width=600, height=400)\n",
    "not_active_traces = [targets_list[i] for i in range(len(targets_list)) if i>len(targets_list)*1]\n",
    "fig.for_each_trace(lambda trace: trace.update(visible='legendonly') if trace.name in not_active_traces else ())\n",
    "\n",
    "list_of_lists_name = [word.replace(' ','_') for word in list_of_lists_name]\n",
    "list_name = list_of_lists_name[nb_list]\n",
    "\n",
    "fig.show()\n",
    "fig.write_html(\"figures/words_occurences_\"+list_name+\".html\")\n"
   ]
  },
  {
   "attachments": {},
   "cell_type": "markdown",
   "metadata": {},
   "source": [
    "For the selected word ensemble, we can compute a closeness matrix, plotting the distance in occurences ranking of words in the ensemble. The lower the difference, the closer the rankings of words in corresponding communities."
   ]
  },
  {
   "cell_type": "code",
   "execution_count": 38,
   "metadata": {},
   "outputs": [
    {
     "data": {
      "application/vnd.plotly.v1+json": {
       "config": {
        "plotlyServerURL": "https://plot.ly"
       },
       "data": [
        {
         "cells": {
          "align": "center",
          "fill": {
           "color": [
            [
             "rgb(0.0, 180.0, 0.0)",
             "rgb(5.328947368421053, 153.35526315789474, 5.328947368421053)",
             "rgb(0.19736842105263158, 179.01315789473685, 0.19736842105263158)",
             "rgb(8.289473684210526, 138.55263157894737, 8.289473684210526)",
             "rgb(29.013157894736842, 34.93421052631581, 29.013157894736842)",
             "rgb(29.605263157894736, 31.97368421052633, 29.605263157894736)"
            ],
            [
             "rgb(5.328947368421053, 153.35526315789474, 5.328947368421053)",
             "rgb(0.0, 180.0, 0.0)",
             "rgb(5.723684210526316, 151.3815789473684, 5.723684210526316)",
             "rgb(2.960526315789474, 165.19736842105263, 2.960526315789474)",
             "rgb(23.486842105263158, 62.56578947368422, 23.486842105263158)",
             "rgb(24.276315789473685, 58.61842105263159, 24.276315789473685)"
            ],
            [
             "rgb(0.19736842105263158, 179.01315789473685, 0.19736842105263158)",
             "rgb(5.723684210526316, 151.3815789473684, 5.723684210526316)",
             "rgb(0.0, 180.0, 0.0)",
             "rgb(8.68421052631579, 136.57894736842104, 8.68421052631579)",
             "rgb(29.407894736842106, 32.96052631578948, 29.407894736842106)",
             "rgb(30.0, 30.0, 30.0)"
            ],
            [
             "rgb(8.289473684210526, 138.55263157894737, 8.289473684210526)",
             "rgb(2.960526315789474, 165.19736842105263, 2.960526315789474)",
             "rgb(8.68421052631579, 136.57894736842104, 8.68421052631579)",
             "rgb(0.0, 180.0, 0.0)",
             "rgb(20.526315789473685, 77.36842105263159, 20.526315789473685)",
             "rgb(21.11842105263158, 74.40789473684211, 21.11842105263158)"
            ],
            [
             "rgb(29.013157894736842, 34.93421052631581, 29.013157894736842)",
             "rgb(23.486842105263158, 62.56578947368422, 23.486842105263158)",
             "rgb(29.407894736842106, 32.96052631578948, 29.407894736842106)",
             "rgb(20.526315789473685, 77.36842105263159, 20.526315789473685)",
             "rgb(0.0, 180.0, 0.0)",
             "rgb(0.5921052631578947, 177.03947368421052, 0.5921052631578947)"
            ],
            [
             "rgb(29.605263157894736, 31.97368421052633, 29.605263157894736)",
             "rgb(24.276315789473685, 58.61842105263159, 24.276315789473685)",
             "rgb(30.0, 30.0, 30.0)",
             "rgb(21.11842105263158, 74.40789473684211, 21.11842105263158)",
             "rgb(0.5921052631578947, 177.03947368421052, 0.5921052631578947)",
             "rgb(0.0, 180.0, 0.0)"
            ]
           ]
          },
          "font": {
           "color": "white",
           "size": 11
          },
          "line": {
           "color": [
            [
             "rgb(0.0, 180.0, 0.0)",
             "rgb(5.328947368421053, 153.35526315789474, 5.328947368421053)",
             "rgb(0.19736842105263158, 179.01315789473685, 0.19736842105263158)",
             "rgb(8.289473684210526, 138.55263157894737, 8.289473684210526)",
             "rgb(29.013157894736842, 34.93421052631581, 29.013157894736842)",
             "rgb(29.605263157894736, 31.97368421052633, 29.605263157894736)"
            ],
            [
             "rgb(5.328947368421053, 153.35526315789474, 5.328947368421053)",
             "rgb(0.0, 180.0, 0.0)",
             "rgb(5.723684210526316, 151.3815789473684, 5.723684210526316)",
             "rgb(2.960526315789474, 165.19736842105263, 2.960526315789474)",
             "rgb(23.486842105263158, 62.56578947368422, 23.486842105263158)",
             "rgb(24.276315789473685, 58.61842105263159, 24.276315789473685)"
            ],
            [
             "rgb(0.19736842105263158, 179.01315789473685, 0.19736842105263158)",
             "rgb(5.723684210526316, 151.3815789473684, 5.723684210526316)",
             "rgb(0.0, 180.0, 0.0)",
             "rgb(8.68421052631579, 136.57894736842104, 8.68421052631579)",
             "rgb(29.407894736842106, 32.96052631578948, 29.407894736842106)",
             "rgb(30.0, 30.0, 30.0)"
            ],
            [
             "rgb(8.289473684210526, 138.55263157894737, 8.289473684210526)",
             "rgb(2.960526315789474, 165.19736842105263, 2.960526315789474)",
             "rgb(8.68421052631579, 136.57894736842104, 8.68421052631579)",
             "rgb(0.0, 180.0, 0.0)",
             "rgb(20.526315789473685, 77.36842105263159, 20.526315789473685)",
             "rgb(21.11842105263158, 74.40789473684211, 21.11842105263158)"
            ],
            [
             "rgb(29.013157894736842, 34.93421052631581, 29.013157894736842)",
             "rgb(23.486842105263158, 62.56578947368422, 23.486842105263158)",
             "rgb(29.407894736842106, 32.96052631578948, 29.407894736842106)",
             "rgb(20.526315789473685, 77.36842105263159, 20.526315789473685)",
             "rgb(0.0, 180.0, 0.0)",
             "rgb(0.5921052631578947, 177.03947368421052, 0.5921052631578947)"
            ],
            [
             "rgb(29.605263157894736, 31.97368421052633, 29.605263157894736)",
             "rgb(24.276315789473685, 58.61842105263159, 24.276315789473685)",
             "rgb(30.0, 30.0, 30.0)",
             "rgb(21.11842105263158, 74.40789473684211, 21.11842105263158)",
             "rgb(0.5921052631578947, 177.03947368421052, 0.5921052631578947)",
             "rgb(0.0, 180.0, 0.0)"
            ]
           ]
          },
          "values": [
           [
            0,
            27,
            1,
            42,
            147,
            150
           ],
           [
            27,
            0,
            29,
            15,
            119,
            123
           ],
           [
            1,
            29,
            0,
            44,
            149,
            152
           ],
           [
            42,
            15,
            44,
            0,
            104,
            107
           ],
           [
            147,
            119,
            149,
            104,
            0,
            3
           ],
           [
            150,
            123,
            152,
            107,
            3,
            0
           ]
          ]
         },
         "header": {
          "align": "center",
          "fill": {
           "color": "white"
          },
          "font": {
           "color": "black",
           "size": 12
          },
          "line": {
           "color": "white"
          },
          "values": [
           "<b>0</b>",
           "<b>1</b>",
           "<b>2</b>",
           "<b>3</b>",
           "<b>4</b>",
           "<b>5</b>"
          ]
         },
         "type": "table"
        }
       ],
       "layout": {
        "template": {
         "data": {
          "bar": [
           {
            "error_x": {
             "color": "#2a3f5f"
            },
            "error_y": {
             "color": "#2a3f5f"
            },
            "marker": {
             "line": {
              "color": "#E5ECF6",
              "width": 0.5
             },
             "pattern": {
              "fillmode": "overlay",
              "size": 10,
              "solidity": 0.2
             }
            },
            "type": "bar"
           }
          ],
          "barpolar": [
           {
            "marker": {
             "line": {
              "color": "#E5ECF6",
              "width": 0.5
             },
             "pattern": {
              "fillmode": "overlay",
              "size": 10,
              "solidity": 0.2
             }
            },
            "type": "barpolar"
           }
          ],
          "carpet": [
           {
            "aaxis": {
             "endlinecolor": "#2a3f5f",
             "gridcolor": "white",
             "linecolor": "white",
             "minorgridcolor": "white",
             "startlinecolor": "#2a3f5f"
            },
            "baxis": {
             "endlinecolor": "#2a3f5f",
             "gridcolor": "white",
             "linecolor": "white",
             "minorgridcolor": "white",
             "startlinecolor": "#2a3f5f"
            },
            "type": "carpet"
           }
          ],
          "choropleth": [
           {
            "colorbar": {
             "outlinewidth": 0,
             "ticks": ""
            },
            "type": "choropleth"
           }
          ],
          "contour": [
           {
            "colorbar": {
             "outlinewidth": 0,
             "ticks": ""
            },
            "colorscale": [
             [
              0,
              "#0d0887"
             ],
             [
              0.1111111111111111,
              "#46039f"
             ],
             [
              0.2222222222222222,
              "#7201a8"
             ],
             [
              0.3333333333333333,
              "#9c179e"
             ],
             [
              0.4444444444444444,
              "#bd3786"
             ],
             [
              0.5555555555555556,
              "#d8576b"
             ],
             [
              0.6666666666666666,
              "#ed7953"
             ],
             [
              0.7777777777777778,
              "#fb9f3a"
             ],
             [
              0.8888888888888888,
              "#fdca26"
             ],
             [
              1,
              "#f0f921"
             ]
            ],
            "type": "contour"
           }
          ],
          "contourcarpet": [
           {
            "colorbar": {
             "outlinewidth": 0,
             "ticks": ""
            },
            "type": "contourcarpet"
           }
          ],
          "heatmap": [
           {
            "colorbar": {
             "outlinewidth": 0,
             "ticks": ""
            },
            "colorscale": [
             [
              0,
              "#0d0887"
             ],
             [
              0.1111111111111111,
              "#46039f"
             ],
             [
              0.2222222222222222,
              "#7201a8"
             ],
             [
              0.3333333333333333,
              "#9c179e"
             ],
             [
              0.4444444444444444,
              "#bd3786"
             ],
             [
              0.5555555555555556,
              "#d8576b"
             ],
             [
              0.6666666666666666,
              "#ed7953"
             ],
             [
              0.7777777777777778,
              "#fb9f3a"
             ],
             [
              0.8888888888888888,
              "#fdca26"
             ],
             [
              1,
              "#f0f921"
             ]
            ],
            "type": "heatmap"
           }
          ],
          "heatmapgl": [
           {
            "colorbar": {
             "outlinewidth": 0,
             "ticks": ""
            },
            "colorscale": [
             [
              0,
              "#0d0887"
             ],
             [
              0.1111111111111111,
              "#46039f"
             ],
             [
              0.2222222222222222,
              "#7201a8"
             ],
             [
              0.3333333333333333,
              "#9c179e"
             ],
             [
              0.4444444444444444,
              "#bd3786"
             ],
             [
              0.5555555555555556,
              "#d8576b"
             ],
             [
              0.6666666666666666,
              "#ed7953"
             ],
             [
              0.7777777777777778,
              "#fb9f3a"
             ],
             [
              0.8888888888888888,
              "#fdca26"
             ],
             [
              1,
              "#f0f921"
             ]
            ],
            "type": "heatmapgl"
           }
          ],
          "histogram": [
           {
            "marker": {
             "pattern": {
              "fillmode": "overlay",
              "size": 10,
              "solidity": 0.2
             }
            },
            "type": "histogram"
           }
          ],
          "histogram2d": [
           {
            "colorbar": {
             "outlinewidth": 0,
             "ticks": ""
            },
            "colorscale": [
             [
              0,
              "#0d0887"
             ],
             [
              0.1111111111111111,
              "#46039f"
             ],
             [
              0.2222222222222222,
              "#7201a8"
             ],
             [
              0.3333333333333333,
              "#9c179e"
             ],
             [
              0.4444444444444444,
              "#bd3786"
             ],
             [
              0.5555555555555556,
              "#d8576b"
             ],
             [
              0.6666666666666666,
              "#ed7953"
             ],
             [
              0.7777777777777778,
              "#fb9f3a"
             ],
             [
              0.8888888888888888,
              "#fdca26"
             ],
             [
              1,
              "#f0f921"
             ]
            ],
            "type": "histogram2d"
           }
          ],
          "histogram2dcontour": [
           {
            "colorbar": {
             "outlinewidth": 0,
             "ticks": ""
            },
            "colorscale": [
             [
              0,
              "#0d0887"
             ],
             [
              0.1111111111111111,
              "#46039f"
             ],
             [
              0.2222222222222222,
              "#7201a8"
             ],
             [
              0.3333333333333333,
              "#9c179e"
             ],
             [
              0.4444444444444444,
              "#bd3786"
             ],
             [
              0.5555555555555556,
              "#d8576b"
             ],
             [
              0.6666666666666666,
              "#ed7953"
             ],
             [
              0.7777777777777778,
              "#fb9f3a"
             ],
             [
              0.8888888888888888,
              "#fdca26"
             ],
             [
              1,
              "#f0f921"
             ]
            ],
            "type": "histogram2dcontour"
           }
          ],
          "mesh3d": [
           {
            "colorbar": {
             "outlinewidth": 0,
             "ticks": ""
            },
            "type": "mesh3d"
           }
          ],
          "parcoords": [
           {
            "line": {
             "colorbar": {
              "outlinewidth": 0,
              "ticks": ""
             }
            },
            "type": "parcoords"
           }
          ],
          "pie": [
           {
            "automargin": true,
            "type": "pie"
           }
          ],
          "scatter": [
           {
            "fillpattern": {
             "fillmode": "overlay",
             "size": 10,
             "solidity": 0.2
            },
            "type": "scatter"
           }
          ],
          "scatter3d": [
           {
            "line": {
             "colorbar": {
              "outlinewidth": 0,
              "ticks": ""
             }
            },
            "marker": {
             "colorbar": {
              "outlinewidth": 0,
              "ticks": ""
             }
            },
            "type": "scatter3d"
           }
          ],
          "scattercarpet": [
           {
            "marker": {
             "colorbar": {
              "outlinewidth": 0,
              "ticks": ""
             }
            },
            "type": "scattercarpet"
           }
          ],
          "scattergeo": [
           {
            "marker": {
             "colorbar": {
              "outlinewidth": 0,
              "ticks": ""
             }
            },
            "type": "scattergeo"
           }
          ],
          "scattergl": [
           {
            "marker": {
             "colorbar": {
              "outlinewidth": 0,
              "ticks": ""
             }
            },
            "type": "scattergl"
           }
          ],
          "scattermapbox": [
           {
            "marker": {
             "colorbar": {
              "outlinewidth": 0,
              "ticks": ""
             }
            },
            "type": "scattermapbox"
           }
          ],
          "scatterpolar": [
           {
            "marker": {
             "colorbar": {
              "outlinewidth": 0,
              "ticks": ""
             }
            },
            "type": "scatterpolar"
           }
          ],
          "scatterpolargl": [
           {
            "marker": {
             "colorbar": {
              "outlinewidth": 0,
              "ticks": ""
             }
            },
            "type": "scatterpolargl"
           }
          ],
          "scatterternary": [
           {
            "marker": {
             "colorbar": {
              "outlinewidth": 0,
              "ticks": ""
             }
            },
            "type": "scatterternary"
           }
          ],
          "surface": [
           {
            "colorbar": {
             "outlinewidth": 0,
             "ticks": ""
            },
            "colorscale": [
             [
              0,
              "#0d0887"
             ],
             [
              0.1111111111111111,
              "#46039f"
             ],
             [
              0.2222222222222222,
              "#7201a8"
             ],
             [
              0.3333333333333333,
              "#9c179e"
             ],
             [
              0.4444444444444444,
              "#bd3786"
             ],
             [
              0.5555555555555556,
              "#d8576b"
             ],
             [
              0.6666666666666666,
              "#ed7953"
             ],
             [
              0.7777777777777778,
              "#fb9f3a"
             ],
             [
              0.8888888888888888,
              "#fdca26"
             ],
             [
              1,
              "#f0f921"
             ]
            ],
            "type": "surface"
           }
          ],
          "table": [
           {
            "cells": {
             "fill": {
              "color": "#EBF0F8"
             },
             "line": {
              "color": "white"
             }
            },
            "header": {
             "fill": {
              "color": "#C8D4E3"
             },
             "line": {
              "color": "white"
             }
            },
            "type": "table"
           }
          ]
         },
         "layout": {
          "annotationdefaults": {
           "arrowcolor": "#2a3f5f",
           "arrowhead": 0,
           "arrowwidth": 1
          },
          "autotypenumbers": "strict",
          "coloraxis": {
           "colorbar": {
            "outlinewidth": 0,
            "ticks": ""
           }
          },
          "colorscale": {
           "diverging": [
            [
             0,
             "#8e0152"
            ],
            [
             0.1,
             "#c51b7d"
            ],
            [
             0.2,
             "#de77ae"
            ],
            [
             0.3,
             "#f1b6da"
            ],
            [
             0.4,
             "#fde0ef"
            ],
            [
             0.5,
             "#f7f7f7"
            ],
            [
             0.6,
             "#e6f5d0"
            ],
            [
             0.7,
             "#b8e186"
            ],
            [
             0.8,
             "#7fbc41"
            ],
            [
             0.9,
             "#4d9221"
            ],
            [
             1,
             "#276419"
            ]
           ],
           "sequential": [
            [
             0,
             "#0d0887"
            ],
            [
             0.1111111111111111,
             "#46039f"
            ],
            [
             0.2222222222222222,
             "#7201a8"
            ],
            [
             0.3333333333333333,
             "#9c179e"
            ],
            [
             0.4444444444444444,
             "#bd3786"
            ],
            [
             0.5555555555555556,
             "#d8576b"
            ],
            [
             0.6666666666666666,
             "#ed7953"
            ],
            [
             0.7777777777777778,
             "#fb9f3a"
            ],
            [
             0.8888888888888888,
             "#fdca26"
            ],
            [
             1,
             "#f0f921"
            ]
           ],
           "sequentialminus": [
            [
             0,
             "#0d0887"
            ],
            [
             0.1111111111111111,
             "#46039f"
            ],
            [
             0.2222222222222222,
             "#7201a8"
            ],
            [
             0.3333333333333333,
             "#9c179e"
            ],
            [
             0.4444444444444444,
             "#bd3786"
            ],
            [
             0.5555555555555556,
             "#d8576b"
            ],
            [
             0.6666666666666666,
             "#ed7953"
            ],
            [
             0.7777777777777778,
             "#fb9f3a"
            ],
            [
             0.8888888888888888,
             "#fdca26"
            ],
            [
             1,
             "#f0f921"
            ]
           ]
          },
          "colorway": [
           "#636efa",
           "#EF553B",
           "#00cc96",
           "#ab63fa",
           "#FFA15A",
           "#19d3f3",
           "#FF6692",
           "#B6E880",
           "#FF97FF",
           "#FECB52"
          ],
          "font": {
           "color": "#2a3f5f"
          },
          "geo": {
           "bgcolor": "white",
           "lakecolor": "white",
           "landcolor": "#E5ECF6",
           "showlakes": true,
           "showland": true,
           "subunitcolor": "white"
          },
          "hoverlabel": {
           "align": "left"
          },
          "hovermode": "closest",
          "mapbox": {
           "style": "light"
          },
          "paper_bgcolor": "white",
          "plot_bgcolor": "#E5ECF6",
          "polar": {
           "angularaxis": {
            "gridcolor": "white",
            "linecolor": "white",
            "ticks": ""
           },
           "bgcolor": "#E5ECF6",
           "radialaxis": {
            "gridcolor": "white",
            "linecolor": "white",
            "ticks": ""
           }
          },
          "scene": {
           "xaxis": {
            "backgroundcolor": "#E5ECF6",
            "gridcolor": "white",
            "gridwidth": 2,
            "linecolor": "white",
            "showbackground": true,
            "ticks": "",
            "zerolinecolor": "white"
           },
           "yaxis": {
            "backgroundcolor": "#E5ECF6",
            "gridcolor": "white",
            "gridwidth": 2,
            "linecolor": "white",
            "showbackground": true,
            "ticks": "",
            "zerolinecolor": "white"
           },
           "zaxis": {
            "backgroundcolor": "#E5ECF6",
            "gridcolor": "white",
            "gridwidth": 2,
            "linecolor": "white",
            "showbackground": true,
            "ticks": "",
            "zerolinecolor": "white"
           }
          },
          "shapedefaults": {
           "line": {
            "color": "#2a3f5f"
           }
          },
          "ternary": {
           "aaxis": {
            "gridcolor": "white",
            "linecolor": "white",
            "ticks": ""
           },
           "baxis": {
            "gridcolor": "white",
            "linecolor": "white",
            "ticks": ""
           },
           "bgcolor": "#E5ECF6",
           "caxis": {
            "gridcolor": "white",
            "linecolor": "white",
            "ticks": ""
           }
          },
          "title": {
           "x": 0.05
          },
          "xaxis": {
           "automargin": true,
           "gridcolor": "white",
           "linecolor": "white",
           "ticks": "",
           "title": {
            "standoff": 15
           },
           "zerolinecolor": "white",
           "zerolinewidth": 2
          },
          "yaxis": {
           "automargin": true,
           "gridcolor": "white",
           "linecolor": "white",
           "ticks": "",
           "title": {
            "standoff": 15
           },
           "zerolinecolor": "white",
           "zerolinewidth": 2
          }
         }
        }
       }
      }
     },
     "metadata": {},
     "output_type": "display_data"
    }
   ],
   "source": [
    "# Build the matrix given the previously run section, with given word ensemble\n",
    "\n",
    "closeness_matrix = pd.DataFrame(index=communities,columns=communities)\n",
    "\n",
    "for x in communities:\n",
    "    for y in communities:\n",
    "        for target in range(len(targets_list)):\n",
    "            a = result[target][result[target]['community']==x]['title_frequency']\n",
    "            b = result[target][result[target]['community']==y]['title_frequency']\n",
    "            closeness_matrix[x][y]=int(abs(float(a)-float(b))*100000)\n",
    "\n",
    "# Display the matrix\n",
    "\n",
    "colors = n_colors('rgb(0, 180, 0)', 'rgb(30, 30, 30)',closeness_matrix.max().max()+1, colortype='rgb')\n",
    "a = np.stack(closeness_matrix[0].to_numpy()).astype(int)\n",
    "b = np.stack(closeness_matrix[1].to_numpy()).astype(int)\n",
    "c = np.stack(closeness_matrix[2].to_numpy()).astype(int)\n",
    "d = np.stack(closeness_matrix[3].to_numpy()).astype(int)\n",
    "e = np.stack(closeness_matrix[4].to_numpy()).astype(int)\n",
    "f = np.stack(closeness_matrix[5].to_numpy()).astype(int)\n",
    "\n",
    "fig = go.Figure(data=[go.Table(\n",
    "  header=dict(\n",
    "    values=['<b>0</b>','<b>1</b>','<b>2</b>','<b>3</b>','<b>4</b>','<b>5</b>'],\n",
    "    line_color='white', fill_color='white',\n",
    "    align='center',font=dict(color='black', size=12)\n",
    "  ),\n",
    "  cells=dict(\n",
    "    values=[a,b,c,d,e,f],\n",
    "    line_color=[np.array(colors)[a], np.array(colors)[b], np.array(colors)[c], np.array(colors)[d], np.array(colors)[e], np.array(colors)[f]],\n",
    "    fill_color=[np.array(colors)[a], np.array(colors)[b], np.array(colors)[c], np.array(colors)[d], np.array(colors)[e], np.array(colors)[f]],\n",
    "    align='center', font=dict(color='white', size=11)\n",
    "    ))\n",
    "])\n",
    "\n",
    "fig.show()\n",
    "fig.write_html(\"figures/closeness_matrix.html\")"
   ]
  },
  {
   "attachments": {},
   "cell_type": "markdown",
   "metadata": {},
   "source": [
    "Comparison with external datasets is runned here. The code is the same for all datasets, just modify the input file and the output variables (`distance_loco` to `distance_black` or `distance_queer`)."
   ]
  },
  {
   "cell_type": "code",
   "execution_count": 22,
   "metadata": {},
   "outputs": [
    {
     "data": {
      "text/plain": [
       "[1.6247752224104015,\n",
       " 1.4918789637451164,\n",
       " 1.5241416007834676,\n",
       " 1.4562036735276687,\n",
       " 1.7834681277147675,\n",
       " 1.492001517866818]"
      ]
     },
     "metadata": {},
     "output_type": "display_data"
    },
    {
     "data": {
      "application/vnd.plotly.v1+json": {
       "config": {
        "plotlyServerURL": "https://plot.ly"
       },
       "data": [
        {
         "hovertemplate": "variable=0<br>community=%{x}<br>distance=%{y}<extra></extra>",
         "legendgroup": "0",
         "line": {
          "color": "#636efa",
          "dash": "solid"
         },
         "marker": {
          "symbol": "circle"
         },
         "mode": "lines",
         "name": "0",
         "orientation": "v",
         "showlegend": false,
         "type": "scatter",
         "x": [
          0,
          1,
          2,
          3,
          4,
          5
         ],
         "xaxis": "x",
         "y": [
          1.6247752224104015,
          1.4918789637451164,
          1.5241416007834676,
          1.4562036735276687,
          1.7834681277147675,
          1.492001517866818
         ],
         "yaxis": "y"
        }
       ],
       "layout": {
        "height": 400,
        "legend": {
         "title": {
          "text": "variable"
         },
         "tracegroupgap": 0
        },
        "template": {
         "data": {
          "bar": [
           {
            "error_x": {
             "color": "#2a3f5f"
            },
            "error_y": {
             "color": "#2a3f5f"
            },
            "marker": {
             "line": {
              "color": "#E5ECF6",
              "width": 0.5
             },
             "pattern": {
              "fillmode": "overlay",
              "size": 10,
              "solidity": 0.2
             }
            },
            "type": "bar"
           }
          ],
          "barpolar": [
           {
            "marker": {
             "line": {
              "color": "#E5ECF6",
              "width": 0.5
             },
             "pattern": {
              "fillmode": "overlay",
              "size": 10,
              "solidity": 0.2
             }
            },
            "type": "barpolar"
           }
          ],
          "carpet": [
           {
            "aaxis": {
             "endlinecolor": "#2a3f5f",
             "gridcolor": "white",
             "linecolor": "white",
             "minorgridcolor": "white",
             "startlinecolor": "#2a3f5f"
            },
            "baxis": {
             "endlinecolor": "#2a3f5f",
             "gridcolor": "white",
             "linecolor": "white",
             "minorgridcolor": "white",
             "startlinecolor": "#2a3f5f"
            },
            "type": "carpet"
           }
          ],
          "choropleth": [
           {
            "colorbar": {
             "outlinewidth": 0,
             "ticks": ""
            },
            "type": "choropleth"
           }
          ],
          "contour": [
           {
            "colorbar": {
             "outlinewidth": 0,
             "ticks": ""
            },
            "colorscale": [
             [
              0,
              "#0d0887"
             ],
             [
              0.1111111111111111,
              "#46039f"
             ],
             [
              0.2222222222222222,
              "#7201a8"
             ],
             [
              0.3333333333333333,
              "#9c179e"
             ],
             [
              0.4444444444444444,
              "#bd3786"
             ],
             [
              0.5555555555555556,
              "#d8576b"
             ],
             [
              0.6666666666666666,
              "#ed7953"
             ],
             [
              0.7777777777777778,
              "#fb9f3a"
             ],
             [
              0.8888888888888888,
              "#fdca26"
             ],
             [
              1,
              "#f0f921"
             ]
            ],
            "type": "contour"
           }
          ],
          "contourcarpet": [
           {
            "colorbar": {
             "outlinewidth": 0,
             "ticks": ""
            },
            "type": "contourcarpet"
           }
          ],
          "heatmap": [
           {
            "colorbar": {
             "outlinewidth": 0,
             "ticks": ""
            },
            "colorscale": [
             [
              0,
              "#0d0887"
             ],
             [
              0.1111111111111111,
              "#46039f"
             ],
             [
              0.2222222222222222,
              "#7201a8"
             ],
             [
              0.3333333333333333,
              "#9c179e"
             ],
             [
              0.4444444444444444,
              "#bd3786"
             ],
             [
              0.5555555555555556,
              "#d8576b"
             ],
             [
              0.6666666666666666,
              "#ed7953"
             ],
             [
              0.7777777777777778,
              "#fb9f3a"
             ],
             [
              0.8888888888888888,
              "#fdca26"
             ],
             [
              1,
              "#f0f921"
             ]
            ],
            "type": "heatmap"
           }
          ],
          "heatmapgl": [
           {
            "colorbar": {
             "outlinewidth": 0,
             "ticks": ""
            },
            "colorscale": [
             [
              0,
              "#0d0887"
             ],
             [
              0.1111111111111111,
              "#46039f"
             ],
             [
              0.2222222222222222,
              "#7201a8"
             ],
             [
              0.3333333333333333,
              "#9c179e"
             ],
             [
              0.4444444444444444,
              "#bd3786"
             ],
             [
              0.5555555555555556,
              "#d8576b"
             ],
             [
              0.6666666666666666,
              "#ed7953"
             ],
             [
              0.7777777777777778,
              "#fb9f3a"
             ],
             [
              0.8888888888888888,
              "#fdca26"
             ],
             [
              1,
              "#f0f921"
             ]
            ],
            "type": "heatmapgl"
           }
          ],
          "histogram": [
           {
            "marker": {
             "pattern": {
              "fillmode": "overlay",
              "size": 10,
              "solidity": 0.2
             }
            },
            "type": "histogram"
           }
          ],
          "histogram2d": [
           {
            "colorbar": {
             "outlinewidth": 0,
             "ticks": ""
            },
            "colorscale": [
             [
              0,
              "#0d0887"
             ],
             [
              0.1111111111111111,
              "#46039f"
             ],
             [
              0.2222222222222222,
              "#7201a8"
             ],
             [
              0.3333333333333333,
              "#9c179e"
             ],
             [
              0.4444444444444444,
              "#bd3786"
             ],
             [
              0.5555555555555556,
              "#d8576b"
             ],
             [
              0.6666666666666666,
              "#ed7953"
             ],
             [
              0.7777777777777778,
              "#fb9f3a"
             ],
             [
              0.8888888888888888,
              "#fdca26"
             ],
             [
              1,
              "#f0f921"
             ]
            ],
            "type": "histogram2d"
           }
          ],
          "histogram2dcontour": [
           {
            "colorbar": {
             "outlinewidth": 0,
             "ticks": ""
            },
            "colorscale": [
             [
              0,
              "#0d0887"
             ],
             [
              0.1111111111111111,
              "#46039f"
             ],
             [
              0.2222222222222222,
              "#7201a8"
             ],
             [
              0.3333333333333333,
              "#9c179e"
             ],
             [
              0.4444444444444444,
              "#bd3786"
             ],
             [
              0.5555555555555556,
              "#d8576b"
             ],
             [
              0.6666666666666666,
              "#ed7953"
             ],
             [
              0.7777777777777778,
              "#fb9f3a"
             ],
             [
              0.8888888888888888,
              "#fdca26"
             ],
             [
              1,
              "#f0f921"
             ]
            ],
            "type": "histogram2dcontour"
           }
          ],
          "mesh3d": [
           {
            "colorbar": {
             "outlinewidth": 0,
             "ticks": ""
            },
            "type": "mesh3d"
           }
          ],
          "parcoords": [
           {
            "line": {
             "colorbar": {
              "outlinewidth": 0,
              "ticks": ""
             }
            },
            "type": "parcoords"
           }
          ],
          "pie": [
           {
            "automargin": true,
            "type": "pie"
           }
          ],
          "scatter": [
           {
            "fillpattern": {
             "fillmode": "overlay",
             "size": 10,
             "solidity": 0.2
            },
            "type": "scatter"
           }
          ],
          "scatter3d": [
           {
            "line": {
             "colorbar": {
              "outlinewidth": 0,
              "ticks": ""
             }
            },
            "marker": {
             "colorbar": {
              "outlinewidth": 0,
              "ticks": ""
             }
            },
            "type": "scatter3d"
           }
          ],
          "scattercarpet": [
           {
            "marker": {
             "colorbar": {
              "outlinewidth": 0,
              "ticks": ""
             }
            },
            "type": "scattercarpet"
           }
          ],
          "scattergeo": [
           {
            "marker": {
             "colorbar": {
              "outlinewidth": 0,
              "ticks": ""
             }
            },
            "type": "scattergeo"
           }
          ],
          "scattergl": [
           {
            "marker": {
             "colorbar": {
              "outlinewidth": 0,
              "ticks": ""
             }
            },
            "type": "scattergl"
           }
          ],
          "scattermapbox": [
           {
            "marker": {
             "colorbar": {
              "outlinewidth": 0,
              "ticks": ""
             }
            },
            "type": "scattermapbox"
           }
          ],
          "scatterpolar": [
           {
            "marker": {
             "colorbar": {
              "outlinewidth": 0,
              "ticks": ""
             }
            },
            "type": "scatterpolar"
           }
          ],
          "scatterpolargl": [
           {
            "marker": {
             "colorbar": {
              "outlinewidth": 0,
              "ticks": ""
             }
            },
            "type": "scatterpolargl"
           }
          ],
          "scatterternary": [
           {
            "marker": {
             "colorbar": {
              "outlinewidth": 0,
              "ticks": ""
             }
            },
            "type": "scatterternary"
           }
          ],
          "surface": [
           {
            "colorbar": {
             "outlinewidth": 0,
             "ticks": ""
            },
            "colorscale": [
             [
              0,
              "#0d0887"
             ],
             [
              0.1111111111111111,
              "#46039f"
             ],
             [
              0.2222222222222222,
              "#7201a8"
             ],
             [
              0.3333333333333333,
              "#9c179e"
             ],
             [
              0.4444444444444444,
              "#bd3786"
             ],
             [
              0.5555555555555556,
              "#d8576b"
             ],
             [
              0.6666666666666666,
              "#ed7953"
             ],
             [
              0.7777777777777778,
              "#fb9f3a"
             ],
             [
              0.8888888888888888,
              "#fdca26"
             ],
             [
              1,
              "#f0f921"
             ]
            ],
            "type": "surface"
           }
          ],
          "table": [
           {
            "cells": {
             "fill": {
              "color": "#EBF0F8"
             },
             "line": {
              "color": "white"
             }
            },
            "header": {
             "fill": {
              "color": "#C8D4E3"
             },
             "line": {
              "color": "white"
             }
            },
            "type": "table"
           }
          ]
         },
         "layout": {
          "annotationdefaults": {
           "arrowcolor": "#2a3f5f",
           "arrowhead": 0,
           "arrowwidth": 1
          },
          "autotypenumbers": "strict",
          "coloraxis": {
           "colorbar": {
            "outlinewidth": 0,
            "ticks": ""
           }
          },
          "colorscale": {
           "diverging": [
            [
             0,
             "#8e0152"
            ],
            [
             0.1,
             "#c51b7d"
            ],
            [
             0.2,
             "#de77ae"
            ],
            [
             0.3,
             "#f1b6da"
            ],
            [
             0.4,
             "#fde0ef"
            ],
            [
             0.5,
             "#f7f7f7"
            ],
            [
             0.6,
             "#e6f5d0"
            ],
            [
             0.7,
             "#b8e186"
            ],
            [
             0.8,
             "#7fbc41"
            ],
            [
             0.9,
             "#4d9221"
            ],
            [
             1,
             "#276419"
            ]
           ],
           "sequential": [
            [
             0,
             "#0d0887"
            ],
            [
             0.1111111111111111,
             "#46039f"
            ],
            [
             0.2222222222222222,
             "#7201a8"
            ],
            [
             0.3333333333333333,
             "#9c179e"
            ],
            [
             0.4444444444444444,
             "#bd3786"
            ],
            [
             0.5555555555555556,
             "#d8576b"
            ],
            [
             0.6666666666666666,
             "#ed7953"
            ],
            [
             0.7777777777777778,
             "#fb9f3a"
            ],
            [
             0.8888888888888888,
             "#fdca26"
            ],
            [
             1,
             "#f0f921"
            ]
           ],
           "sequentialminus": [
            [
             0,
             "#0d0887"
            ],
            [
             0.1111111111111111,
             "#46039f"
            ],
            [
             0.2222222222222222,
             "#7201a8"
            ],
            [
             0.3333333333333333,
             "#9c179e"
            ],
            [
             0.4444444444444444,
             "#bd3786"
            ],
            [
             0.5555555555555556,
             "#d8576b"
            ],
            [
             0.6666666666666666,
             "#ed7953"
            ],
            [
             0.7777777777777778,
             "#fb9f3a"
            ],
            [
             0.8888888888888888,
             "#fdca26"
            ],
            [
             1,
             "#f0f921"
            ]
           ]
          },
          "colorway": [
           "#636efa",
           "#EF553B",
           "#00cc96",
           "#ab63fa",
           "#FFA15A",
           "#19d3f3",
           "#FF6692",
           "#B6E880",
           "#FF97FF",
           "#FECB52"
          ],
          "font": {
           "color": "#2a3f5f"
          },
          "geo": {
           "bgcolor": "white",
           "lakecolor": "white",
           "landcolor": "#E5ECF6",
           "showlakes": true,
           "showland": true,
           "subunitcolor": "white"
          },
          "hoverlabel": {
           "align": "left"
          },
          "hovermode": "closest",
          "mapbox": {
           "style": "light"
          },
          "paper_bgcolor": "white",
          "plot_bgcolor": "#E5ECF6",
          "polar": {
           "angularaxis": {
            "gridcolor": "white",
            "linecolor": "white",
            "ticks": ""
           },
           "bgcolor": "#E5ECF6",
           "radialaxis": {
            "gridcolor": "white",
            "linecolor": "white",
            "ticks": ""
           }
          },
          "scene": {
           "xaxis": {
            "backgroundcolor": "#E5ECF6",
            "gridcolor": "white",
            "gridwidth": 2,
            "linecolor": "white",
            "showbackground": true,
            "ticks": "",
            "zerolinecolor": "white"
           },
           "yaxis": {
            "backgroundcolor": "#E5ECF6",
            "gridcolor": "white",
            "gridwidth": 2,
            "linecolor": "white",
            "showbackground": true,
            "ticks": "",
            "zerolinecolor": "white"
           },
           "zaxis": {
            "backgroundcolor": "#E5ECF6",
            "gridcolor": "white",
            "gridwidth": 2,
            "linecolor": "white",
            "showbackground": true,
            "ticks": "",
            "zerolinecolor": "white"
           }
          },
          "shapedefaults": {
           "line": {
            "color": "#2a3f5f"
           }
          },
          "ternary": {
           "aaxis": {
            "gridcolor": "white",
            "linecolor": "white",
            "ticks": ""
           },
           "baxis": {
            "gridcolor": "white",
            "linecolor": "white",
            "ticks": ""
           },
           "bgcolor": "#E5ECF6",
           "caxis": {
            "gridcolor": "white",
            "linecolor": "white",
            "ticks": ""
           }
          },
          "title": {
           "x": 0.05
          },
          "xaxis": {
           "automargin": true,
           "gridcolor": "white",
           "linecolor": "white",
           "ticks": "",
           "title": {
            "standoff": 15
           },
           "zerolinecolor": "white",
           "zerolinewidth": 2
          },
          "yaxis": {
           "automargin": true,
           "gridcolor": "white",
           "linecolor": "white",
           "ticks": "",
           "title": {
            "standoff": 15
           },
           "zerolinecolor": "white",
           "zerolinewidth": 2
          }
         }
        },
        "title": {
         "text": "Distance between topics in a community and topics in conspiracist medias"
        },
        "width": 650,
        "xaxis": {
         "anchor": "y",
         "domain": [
          0,
          1
         ],
         "title": {
          "text": "community"
         }
        },
        "yaxis": {
         "anchor": "x",
         "domain": [
          0,
          1
         ],
         "title": {
          "text": "distance"
         }
        }
       }
      }
     },
     "metadata": {},
     "output_type": "display_data"
    }
   ],
   "source": [
    "# Select input file to process\n",
    "\n",
    "dataset = \"data/LOCO_small.txt\"\n",
    "#dataset = \"data/News_black_voices_titles.txt\"\n",
    "#dataset = \"data/News_queer_voices_titles.txt\"\n",
    "\n",
    "######## Exctracting titles in dataset\n",
    "\n",
    "result = \"\"\n",
    "text = \"\"\n",
    "unfinished_title = False\n",
    "nb_titles = 0\n",
    "chunk = 1000000\n",
    "\n",
    "with codecs.open(dataset, 'r', encoding = 'latin1') as file:\n",
    "\n",
    "    #writing the header\n",
    "    text = file.read(chunk)\n",
    "\n",
    "    while text:\n",
    "\n",
    "        if unfinished_title:\n",
    "            result = result +  text[0:text.find('\"txt\"')-2]\n",
    "            text = text[text.find('txt')+8:len(text)]\n",
    "            unfinished_title = False\n",
    "\n",
    "        while text.find('\"title\"') != -1:\n",
    "            nb_titles = nb_titles + 1\n",
    "            text = text[text.find('\"title\"')+9:len(text)]\n",
    "\n",
    "            if text.find('\"txt\"') != -1:\n",
    "                result = result +  text[0:text.find('\"txt\"')-2] + \"\\n\"\n",
    "                text = text[text.find('\"txt\"')+7:len(text)]\n",
    "            else:\n",
    "                unfinished_title = True\n",
    "\n",
    "        text = file.read(chunk)\n",
    "\n",
    "file.close()\n",
    "\n",
    "with codecs.open(\"data/LOCO_titles.txt\", 'w', encoding = 'latin1') as file:\n",
    "    file.write(result)\n",
    "file.close()\n",
    "\n",
    "display(nb_titles)\n",
    "\n",
    "######## Processing titles just as titles in our communities\n",
    "\n",
    "loco = \"\"\n",
    "doc_processed = []\n",
    "\n",
    "with codecs.open(\"data/LOCO_titles.txt\", 'r', encoding = 'latin1') as file:\n",
    "    loco = file.read()\n",
    "file.close()\n",
    "\n",
    "\n",
    "display(\"Length of the book is \" + str(len(loco)) + \" characters, \" + str(len(loco)/nlp.max_length) + \" times the max length that can be processed at once.\")\n",
    "\n",
    "# Processing\n",
    "for i in range(0,int(len(loco)/nlp.max_length)+1):\n",
    "    display('ITERATION ' + str(i))\n",
    "\n",
    "    # Tokenization\n",
    "    print(\"Tokenization\")\n",
    "    doc = nlp(loco[i*nlp.max_length:(i+1)*nlp.max_length])\n",
    "\n",
    "    # Named entities recognition\n",
    "    print(\"Named entities recognition\")\n",
    "    for ent in doc.ents:\n",
    "        if ent.label_ in named_entities:\n",
    "            doc_processed = doc_processed + [ent.text]\n",
    "        \n",
    "    # Punctuation and stopwords removal\n",
    "    print(\"Punctuation and stopwords removal\")\n",
    "    doc_processed = doc_processed + [token.text for token in doc if (not (token.ent_type_ in named_entities) and not token.is_digit and not token.is_stop and not token.is_punct and not (token.text in my_undesired_list) and not is_emoji(token.text))]\n",
    "\n",
    "    # Removal of undesired characters\n",
    "    doc_processed = [token.replace(',','') for token in doc_processed]\n",
    "    doc_processed = [token.replace('.','') for token in doc_processed]\n",
    "    doc_processed = [token.replace(\"'s\",'') for token in doc_processed]\n",
    "\n",
    "    doc_processed = [token_text for token_text in doc_processed if not token_text=='']\n",
    "\n",
    "    print(\"Output\")\n",
    "    #doc_processed = [x.encode('latin1','ignore').decode(\"latin1\") for x in doc_processed]\n",
    "    pd.DataFrame(doc_processed).to_csv(DIR_OUT+\"loco_processed.csv\", sep=\";\",index=False, header=['word'], encoding='latin1')\n",
    "\n",
    "\n",
    "###### Computing occurences count in dataset\n",
    "\n",
    "loco_processed = pd.read_csv(DIR_OUT+\"loco_processed.csv\", sep=';', encoding='latin1')\n",
    "\n",
    "display(loco_processed.head)\n",
    "\n",
    "# Count occurences\n",
    "loco_processed_lowercase = [str(word).lower() for word in loco_processed['word']]\n",
    "word_freq = Counter(loco_processed_lowercase)\n",
    "common_words = word_freq.most_common()\n",
    "common_words_out = pd.DataFrame(common_words)\n",
    "common_words_out.columns=['word','occurences']\n",
    "\n",
    "common_words_out.insert(2, column='frequency', value=common_words_out['occurences']/common_words_out['occurences'].sum())\n",
    "common_words_out = common_words_out.sort_values(by='frequency', ascending = False)[['word','frequency']]\n",
    "\n",
    "common_words_out.to_csv(DIR_OUT+\"loco_occurences.csv\")\n",
    "display(common_words_out.head(10))\n",
    "\n",
    "###### Comparing word occurences in dataset and in our titles for a given community\n",
    "\n",
    "loco_occurences = pd.read_csv(DIR_OUT+\"loco_occurences.csv\", index_col = 0)\n",
    "distance_loco = []\n",
    "\n",
    "# Merge with communities occurences counts\n",
    "for selected_commu in communities:\n",
    "\n",
    "    PATH_COMMU = DIR_OUT+\"communities_comparison/titles_occurences_\"+str(selected_commu)+\"_\"+word+\"_\"+start_date+\"_\"+end_date+\".csv\"\n",
    "    titles_occurences = pd.read_csv(PATH_COMMU, sep=';',index_col=0,usecols=['word','frequency'])\n",
    "    loco_occurences.columns=['word','frequency_loco']\n",
    "\n",
    "    # Merge to identify common words\n",
    "    merged = titles_occurences.merge(loco_occurences, on='word', how='outer').fillna(0)\n",
    "\n",
    "    # Normalize both vectors, not to be influenced by the number of words in the community\n",
    "    merged['frequency'] = merged['frequency'] / merged['frequency'].abs().max()\n",
    "    merged['frequency_loco'] = merged['frequency_loco'] / merged['frequency_loco'].abs().max()\n",
    "\n",
    "    # Apply a logarithmic scale\n",
    "    merged.insert(1,column='log_frequency',value=np.log10(merged['frequency']+1))\n",
    "    merged.insert(1,column='log_frequency_loco',value=np.log10(merged['frequency_loco']+1))\n",
    "\n",
    "    # Compute a 2-norm distance\n",
    "    merged.insert(1,column='distance',value=merged['log_frequency']-merged['log_frequency_loco'])\n",
    "    merged.insert(1,column='squared_distance',value=merged['distance'].pow(2))\n",
    "\n",
    "    distance_loco = distance_loco + [math.sqrt(merged['squared_distance'].sum())]\n",
    "\n",
    "display(distance_loco)\n",
    "\n",
    "fig = px.line(distance_loco, title='Distance between topics in a community and topics in conspiracist medias',labels={'index':'community','value':'distance'},width=650, height=400)\n",
    "fig.update_traces(showlegend=False)\n",
    "fig.show()"
   ]
  },
  {
   "attachments": {},
   "cell_type": "markdown",
   "metadata": {},
   "source": [
    "Once all datasets have been analyzed, we can build the heatmap of distances."
   ]
  },
  {
   "cell_type": "code",
   "execution_count": 25,
   "metadata": {},
   "outputs": [
    {
     "data": {
      "application/vnd.plotly.v1+json": {
       "config": {
        "plotlyServerURL": "https://plot.ly"
       },
       "data": [
        {
         "coloraxis": "coloraxis",
         "hovertemplate": "Community: %{x}<br>Lexical field: %{y}<br>Distance: %{z}<extra></extra>",
         "name": "0",
         "type": "heatmap",
         "x": [
          "0",
          "1",
          "2",
          "3",
          "4",
          "5"
         ],
         "xaxis": "x",
         "y": [
          "Conspiracy",
          "Black voices",
          "Queer voices"
         ],
         "yaxis": "y",
         "z": [
          [
           0.17335615663559797,
           0.15917672780402953,
           0.16261900503890794,
           0.1553703359329242,
           0.19028797081484752,
           0.15918980377369288
          ],
          [
           0.20113099097368553,
           0.16270018433479688,
           0.17657372850957637,
           0.16258869542367094,
           0.14325385716894393,
           0.15375254358932627
          ],
          [
           0.2164071784666931,
           0.1651656873247227,
           0.16357468441383957,
           0.1579426607942711,
           0.1379951436614329,
           0.15891464533904057
          ]
         ]
        }
       ],
       "layout": {
        "coloraxis": {
         "colorbar": {
          "title": {
           "text": "Distance"
          }
         },
         "colorscale": [
          [
           0,
           "#0d0887"
          ],
          [
           0.1111111111111111,
           "#46039f"
          ],
          [
           0.2222222222222222,
           "#7201a8"
          ],
          [
           0.3333333333333333,
           "#9c179e"
          ],
          [
           0.4444444444444444,
           "#bd3786"
          ],
          [
           0.5555555555555556,
           "#d8576b"
          ],
          [
           0.6666666666666666,
           "#ed7953"
          ],
          [
           0.7777777777777778,
           "#fb9f3a"
          ],
          [
           0.8888888888888888,
           "#fdca26"
          ],
          [
           1,
           "#f0f921"
          ]
         ]
        },
        "height": 400,
        "template": {
         "data": {
          "bar": [
           {
            "error_x": {
             "color": "#2a3f5f"
            },
            "error_y": {
             "color": "#2a3f5f"
            },
            "marker": {
             "line": {
              "color": "#E5ECF6",
              "width": 0.5
             },
             "pattern": {
              "fillmode": "overlay",
              "size": 10,
              "solidity": 0.2
             }
            },
            "type": "bar"
           }
          ],
          "barpolar": [
           {
            "marker": {
             "line": {
              "color": "#E5ECF6",
              "width": 0.5
             },
             "pattern": {
              "fillmode": "overlay",
              "size": 10,
              "solidity": 0.2
             }
            },
            "type": "barpolar"
           }
          ],
          "carpet": [
           {
            "aaxis": {
             "endlinecolor": "#2a3f5f",
             "gridcolor": "white",
             "linecolor": "white",
             "minorgridcolor": "white",
             "startlinecolor": "#2a3f5f"
            },
            "baxis": {
             "endlinecolor": "#2a3f5f",
             "gridcolor": "white",
             "linecolor": "white",
             "minorgridcolor": "white",
             "startlinecolor": "#2a3f5f"
            },
            "type": "carpet"
           }
          ],
          "choropleth": [
           {
            "colorbar": {
             "outlinewidth": 0,
             "ticks": ""
            },
            "type": "choropleth"
           }
          ],
          "contour": [
           {
            "colorbar": {
             "outlinewidth": 0,
             "ticks": ""
            },
            "colorscale": [
             [
              0,
              "#0d0887"
             ],
             [
              0.1111111111111111,
              "#46039f"
             ],
             [
              0.2222222222222222,
              "#7201a8"
             ],
             [
              0.3333333333333333,
              "#9c179e"
             ],
             [
              0.4444444444444444,
              "#bd3786"
             ],
             [
              0.5555555555555556,
              "#d8576b"
             ],
             [
              0.6666666666666666,
              "#ed7953"
             ],
             [
              0.7777777777777778,
              "#fb9f3a"
             ],
             [
              0.8888888888888888,
              "#fdca26"
             ],
             [
              1,
              "#f0f921"
             ]
            ],
            "type": "contour"
           }
          ],
          "contourcarpet": [
           {
            "colorbar": {
             "outlinewidth": 0,
             "ticks": ""
            },
            "type": "contourcarpet"
           }
          ],
          "heatmap": [
           {
            "colorbar": {
             "outlinewidth": 0,
             "ticks": ""
            },
            "colorscale": [
             [
              0,
              "#0d0887"
             ],
             [
              0.1111111111111111,
              "#46039f"
             ],
             [
              0.2222222222222222,
              "#7201a8"
             ],
             [
              0.3333333333333333,
              "#9c179e"
             ],
             [
              0.4444444444444444,
              "#bd3786"
             ],
             [
              0.5555555555555556,
              "#d8576b"
             ],
             [
              0.6666666666666666,
              "#ed7953"
             ],
             [
              0.7777777777777778,
              "#fb9f3a"
             ],
             [
              0.8888888888888888,
              "#fdca26"
             ],
             [
              1,
              "#f0f921"
             ]
            ],
            "type": "heatmap"
           }
          ],
          "heatmapgl": [
           {
            "colorbar": {
             "outlinewidth": 0,
             "ticks": ""
            },
            "colorscale": [
             [
              0,
              "#0d0887"
             ],
             [
              0.1111111111111111,
              "#46039f"
             ],
             [
              0.2222222222222222,
              "#7201a8"
             ],
             [
              0.3333333333333333,
              "#9c179e"
             ],
             [
              0.4444444444444444,
              "#bd3786"
             ],
             [
              0.5555555555555556,
              "#d8576b"
             ],
             [
              0.6666666666666666,
              "#ed7953"
             ],
             [
              0.7777777777777778,
              "#fb9f3a"
             ],
             [
              0.8888888888888888,
              "#fdca26"
             ],
             [
              1,
              "#f0f921"
             ]
            ],
            "type": "heatmapgl"
           }
          ],
          "histogram": [
           {
            "marker": {
             "pattern": {
              "fillmode": "overlay",
              "size": 10,
              "solidity": 0.2
             }
            },
            "type": "histogram"
           }
          ],
          "histogram2d": [
           {
            "colorbar": {
             "outlinewidth": 0,
             "ticks": ""
            },
            "colorscale": [
             [
              0,
              "#0d0887"
             ],
             [
              0.1111111111111111,
              "#46039f"
             ],
             [
              0.2222222222222222,
              "#7201a8"
             ],
             [
              0.3333333333333333,
              "#9c179e"
             ],
             [
              0.4444444444444444,
              "#bd3786"
             ],
             [
              0.5555555555555556,
              "#d8576b"
             ],
             [
              0.6666666666666666,
              "#ed7953"
             ],
             [
              0.7777777777777778,
              "#fb9f3a"
             ],
             [
              0.8888888888888888,
              "#fdca26"
             ],
             [
              1,
              "#f0f921"
             ]
            ],
            "type": "histogram2d"
           }
          ],
          "histogram2dcontour": [
           {
            "colorbar": {
             "outlinewidth": 0,
             "ticks": ""
            },
            "colorscale": [
             [
              0,
              "#0d0887"
             ],
             [
              0.1111111111111111,
              "#46039f"
             ],
             [
              0.2222222222222222,
              "#7201a8"
             ],
             [
              0.3333333333333333,
              "#9c179e"
             ],
             [
              0.4444444444444444,
              "#bd3786"
             ],
             [
              0.5555555555555556,
              "#d8576b"
             ],
             [
              0.6666666666666666,
              "#ed7953"
             ],
             [
              0.7777777777777778,
              "#fb9f3a"
             ],
             [
              0.8888888888888888,
              "#fdca26"
             ],
             [
              1,
              "#f0f921"
             ]
            ],
            "type": "histogram2dcontour"
           }
          ],
          "mesh3d": [
           {
            "colorbar": {
             "outlinewidth": 0,
             "ticks": ""
            },
            "type": "mesh3d"
           }
          ],
          "parcoords": [
           {
            "line": {
             "colorbar": {
              "outlinewidth": 0,
              "ticks": ""
             }
            },
            "type": "parcoords"
           }
          ],
          "pie": [
           {
            "automargin": true,
            "type": "pie"
           }
          ],
          "scatter": [
           {
            "fillpattern": {
             "fillmode": "overlay",
             "size": 10,
             "solidity": 0.2
            },
            "type": "scatter"
           }
          ],
          "scatter3d": [
           {
            "line": {
             "colorbar": {
              "outlinewidth": 0,
              "ticks": ""
             }
            },
            "marker": {
             "colorbar": {
              "outlinewidth": 0,
              "ticks": ""
             }
            },
            "type": "scatter3d"
           }
          ],
          "scattercarpet": [
           {
            "marker": {
             "colorbar": {
              "outlinewidth": 0,
              "ticks": ""
             }
            },
            "type": "scattercarpet"
           }
          ],
          "scattergeo": [
           {
            "marker": {
             "colorbar": {
              "outlinewidth": 0,
              "ticks": ""
             }
            },
            "type": "scattergeo"
           }
          ],
          "scattergl": [
           {
            "marker": {
             "colorbar": {
              "outlinewidth": 0,
              "ticks": ""
             }
            },
            "type": "scattergl"
           }
          ],
          "scattermapbox": [
           {
            "marker": {
             "colorbar": {
              "outlinewidth": 0,
              "ticks": ""
             }
            },
            "type": "scattermapbox"
           }
          ],
          "scatterpolar": [
           {
            "marker": {
             "colorbar": {
              "outlinewidth": 0,
              "ticks": ""
             }
            },
            "type": "scatterpolar"
           }
          ],
          "scatterpolargl": [
           {
            "marker": {
             "colorbar": {
              "outlinewidth": 0,
              "ticks": ""
             }
            },
            "type": "scatterpolargl"
           }
          ],
          "scatterternary": [
           {
            "marker": {
             "colorbar": {
              "outlinewidth": 0,
              "ticks": ""
             }
            },
            "type": "scatterternary"
           }
          ],
          "surface": [
           {
            "colorbar": {
             "outlinewidth": 0,
             "ticks": ""
            },
            "colorscale": [
             [
              0,
              "#0d0887"
             ],
             [
              0.1111111111111111,
              "#46039f"
             ],
             [
              0.2222222222222222,
              "#7201a8"
             ],
             [
              0.3333333333333333,
              "#9c179e"
             ],
             [
              0.4444444444444444,
              "#bd3786"
             ],
             [
              0.5555555555555556,
              "#d8576b"
             ],
             [
              0.6666666666666666,
              "#ed7953"
             ],
             [
              0.7777777777777778,
              "#fb9f3a"
             ],
             [
              0.8888888888888888,
              "#fdca26"
             ],
             [
              1,
              "#f0f921"
             ]
            ],
            "type": "surface"
           }
          ],
          "table": [
           {
            "cells": {
             "fill": {
              "color": "#EBF0F8"
             },
             "line": {
              "color": "white"
             }
            },
            "header": {
             "fill": {
              "color": "#C8D4E3"
             },
             "line": {
              "color": "white"
             }
            },
            "type": "table"
           }
          ]
         },
         "layout": {
          "annotationdefaults": {
           "arrowcolor": "#2a3f5f",
           "arrowhead": 0,
           "arrowwidth": 1
          },
          "autotypenumbers": "strict",
          "coloraxis": {
           "colorbar": {
            "outlinewidth": 0,
            "ticks": ""
           }
          },
          "colorscale": {
           "diverging": [
            [
             0,
             "#8e0152"
            ],
            [
             0.1,
             "#c51b7d"
            ],
            [
             0.2,
             "#de77ae"
            ],
            [
             0.3,
             "#f1b6da"
            ],
            [
             0.4,
             "#fde0ef"
            ],
            [
             0.5,
             "#f7f7f7"
            ],
            [
             0.6,
             "#e6f5d0"
            ],
            [
             0.7,
             "#b8e186"
            ],
            [
             0.8,
             "#7fbc41"
            ],
            [
             0.9,
             "#4d9221"
            ],
            [
             1,
             "#276419"
            ]
           ],
           "sequential": [
            [
             0,
             "#0d0887"
            ],
            [
             0.1111111111111111,
             "#46039f"
            ],
            [
             0.2222222222222222,
             "#7201a8"
            ],
            [
             0.3333333333333333,
             "#9c179e"
            ],
            [
             0.4444444444444444,
             "#bd3786"
            ],
            [
             0.5555555555555556,
             "#d8576b"
            ],
            [
             0.6666666666666666,
             "#ed7953"
            ],
            [
             0.7777777777777778,
             "#fb9f3a"
            ],
            [
             0.8888888888888888,
             "#fdca26"
            ],
            [
             1,
             "#f0f921"
            ]
           ],
           "sequentialminus": [
            [
             0,
             "#0d0887"
            ],
            [
             0.1111111111111111,
             "#46039f"
            ],
            [
             0.2222222222222222,
             "#7201a8"
            ],
            [
             0.3333333333333333,
             "#9c179e"
            ],
            [
             0.4444444444444444,
             "#bd3786"
            ],
            [
             0.5555555555555556,
             "#d8576b"
            ],
            [
             0.6666666666666666,
             "#ed7953"
            ],
            [
             0.7777777777777778,
             "#fb9f3a"
            ],
            [
             0.8888888888888888,
             "#fdca26"
            ],
            [
             1,
             "#f0f921"
            ]
           ]
          },
          "colorway": [
           "#636efa",
           "#EF553B",
           "#00cc96",
           "#ab63fa",
           "#FFA15A",
           "#19d3f3",
           "#FF6692",
           "#B6E880",
           "#FF97FF",
           "#FECB52"
          ],
          "font": {
           "color": "#2a3f5f"
          },
          "geo": {
           "bgcolor": "white",
           "lakecolor": "white",
           "landcolor": "#E5ECF6",
           "showlakes": true,
           "showland": true,
           "subunitcolor": "white"
          },
          "hoverlabel": {
           "align": "left"
          },
          "hovermode": "closest",
          "mapbox": {
           "style": "light"
          },
          "paper_bgcolor": "white",
          "plot_bgcolor": "#E5ECF6",
          "polar": {
           "angularaxis": {
            "gridcolor": "white",
            "linecolor": "white",
            "ticks": ""
           },
           "bgcolor": "#E5ECF6",
           "radialaxis": {
            "gridcolor": "white",
            "linecolor": "white",
            "ticks": ""
           }
          },
          "scene": {
           "xaxis": {
            "backgroundcolor": "#E5ECF6",
            "gridcolor": "white",
            "gridwidth": 2,
            "linecolor": "white",
            "showbackground": true,
            "ticks": "",
            "zerolinecolor": "white"
           },
           "yaxis": {
            "backgroundcolor": "#E5ECF6",
            "gridcolor": "white",
            "gridwidth": 2,
            "linecolor": "white",
            "showbackground": true,
            "ticks": "",
            "zerolinecolor": "white"
           },
           "zaxis": {
            "backgroundcolor": "#E5ECF6",
            "gridcolor": "white",
            "gridwidth": 2,
            "linecolor": "white",
            "showbackground": true,
            "ticks": "",
            "zerolinecolor": "white"
           }
          },
          "shapedefaults": {
           "line": {
            "color": "#2a3f5f"
           }
          },
          "ternary": {
           "aaxis": {
            "gridcolor": "white",
            "linecolor": "white",
            "ticks": ""
           },
           "baxis": {
            "gridcolor": "white",
            "linecolor": "white",
            "ticks": ""
           },
           "bgcolor": "#E5ECF6",
           "caxis": {
            "gridcolor": "white",
            "linecolor": "white",
            "ticks": ""
           }
          },
          "title": {
           "x": 0.05
          },
          "xaxis": {
           "automargin": true,
           "gridcolor": "white",
           "linecolor": "white",
           "ticks": "",
           "title": {
            "standoff": 15
           },
           "zerolinecolor": "white",
           "zerolinewidth": 2
          },
          "yaxis": {
           "automargin": true,
           "gridcolor": "white",
           "linecolor": "white",
           "ticks": "",
           "title": {
            "standoff": 15
           },
           "zerolinecolor": "white",
           "zerolinewidth": 2
          }
         }
        },
        "title": {
         "text": "Distance between selected datasets and titles of videos in our communities,<br>\t in terms of frequency of occurence of words"
        },
        "width": 700,
        "xaxis": {
         "anchor": "y",
         "constrain": "domain",
         "domain": [
          0,
          1
         ],
         "scaleanchor": "y",
         "title": {
          "text": "Community"
         }
        },
        "yaxis": {
         "anchor": "x",
         "autorange": "reversed",
         "constrain": "domain",
         "domain": [
          0,
          1
         ],
         "title": {
          "text": "Lexical field"
         }
        }
       }
      }
     },
     "metadata": {},
     "output_type": "display_data"
    }
   ],
   "source": [
    "# Normalization\n",
    "distance_queer = [element/sum(distance_queer) for element in distance_queer]\n",
    "distance_black = [element/sum(distance_black) for element in distance_black]\n",
    "distance_loco = [element/sum(distance_loco) for element in distance_loco]\n",
    "#distance_climate = [element/sum(distance_climate) for element in distance_climate]\n",
    "\n",
    "fig = px.imshow([distance_loco,distance_black,distance_queer],\n",
    "                title=\"Distance between selected datasets and titles of videos in our communities,<br>\\t in terms of frequency of occurence of words\",\n",
    "                labels=dict(x=\"Community\", y=\"Lexical field\" , color=\"Distance\"),\n",
    "                x=['0','1','2','3','4','5'], \n",
    "                y=['Conspiracy','Black voices','Queer voices',],\n",
    "                width=700, height=400)\n",
    "fig.show()\n",
    "fig.write_html(\"figures/heat_map_datasets.html\")"
   ]
  }
 ],
 "metadata": {
  "kernelspec": {
   "display_name": "Python 3.9.13 ('ada')",
   "language": "python",
   "name": "python3"
  },
  "language_info": {
   "codemirror_mode": {
    "name": "ipython",
    "version": 3
   },
   "file_extension": ".py",
   "mimetype": "text/x-python",
   "name": "python",
   "nbconvert_exporter": "python",
   "pygments_lexer": "ipython3",
   "version": "3.9.13"
  },
  "orig_nbformat": 4,
  "vscode": {
   "interpreter": {
    "hash": "5bb44ca244f21872a2636e270743d00483b0a4f5cba3cb4517ee3d5c4d5da17d"
   }
  }
 },
 "nbformat": 4,
 "nbformat_minor": 2
}
